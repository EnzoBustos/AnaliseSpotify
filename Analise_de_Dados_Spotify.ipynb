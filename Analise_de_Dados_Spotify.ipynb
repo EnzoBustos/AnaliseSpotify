{
  "nbformat": 4,
  "nbformat_minor": 0,
  "metadata": {
    "colab": {
      "name": "Análise de Dados - Spotify",
      "provenance": [],
      "collapsed_sections": [],
      "toc_visible": true
    },
    "kernelspec": {
      "name": "python3",
      "display_name": "Python 3"
    }
  },
  "cells": [
    {
      "cell_type": "markdown",
      "metadata": {
        "id": "a4hKy-bJKAls",
        "colab_type": "text"
      },
      "source": [
        "# **Mini projeto - Turing Academy**\n",
        "Análise de dados: Spotify\n",
        "\n",
        "Autor: Enzo Bustos Da Silva\n",
        "\n",
        "Agradecimento especial aos meus mentores: Camila, Mura e William"
      ]
    },
    {
      "cell_type": "markdown",
      "metadata": {
        "id": "XepIwXzJhJKr",
        "colab_type": "text"
      },
      "source": [
        "# **Informações sobre o Dataset:**"
      ]
    },
    {
      "cell_type": "markdown",
      "metadata": {
        "id": "zbCnnKlyhOoC",
        "colab_type": "text"
      },
      "source": [
        "## **DataSet:**\n",
        "Contém as mais diversas informações sobre cerca de 19000 músicas distribuídas entre 15 features.\n"
      ]
    },
    {
      "cell_type": "markdown",
      "metadata": {
        "id": "zyGc0X1iWx7O",
        "colab_type": "text"
      },
      "source": [
        "## **Features:**\n",
        "\n",
        "**song_popularity** (popularidade): Classificação das músicas pela audiência do spotify. (*Target*)\n",
        "\n",
        "**song_duration_ms** (duração): A duração da música em milisegundos.\n",
        "\n",
        "**acousticness** (acústica): É uma medida de confiança de 0.0 até 1.0 que mostra o quão acústica é uma faixa. Sendo 1.0 uma faixa que apresenta alta confiabilidade de ser acústica.\n",
        "\n",
        "**danceability** (danceabilidade): Descreve o quão conveniente é dançar para esta faixa, baseado em uma combinação de elementos musicais como tempo (marcação de cada unidade de compasso, dita o ritmo), estabilidade do ritmo, força das bastidas e a regularidade de uma forma geral. Sendo 0.0 um valor para uma música pouco dançável e 1.0 é mais dançável.\n",
        "\n",
        "**energy** (energia): É uma medição de 0.0 até 1.0 que representa uma medida de intensidade e atividade. Em termos mais comuns, uma música energética parece mais rápida, alta e barulhenta. Por exemplo, death metal é bem energético, enquanto o prelúdio de Bach pontua baixo nessa escala.\n",
        "\n",
        "**instrumentalness** (instrumentalidade): Prevê se uma faixa tem ou não a presença de vocais. Sons como \"Ooh\" e \"Aah\" são tratados como instrumentais nesse contexto. Música rap ou palavras faladas são claramente \"vocais\". Quanto mais perto de 1.0 o valor de instrumentalidade, maior a probabilidade dessa faixa não conter conteúdo vocal. Valores acima de 0.5 tem a intenção de representar faixas instrumentais, porém a confiança é maior quando o valor se aproxima de 1.0.\n",
        "\n",
        "**key** (nota musical): Uma estimativa na nota musical da faixa. Números inteiros são mapeados às notas usando a notação padrão de Classe de Notas. Por Exemplo 0 = C (Dó), 1 = C♯/D♭ (Dó sustenido/Ré bemol), 2 = D (Ré), e assim por diante. Se nenhuma nota musical for detectada, é atribuido o valor de -1.\n",
        "\n",
        "**liveness** (ao vivo): É uma medição que detecta a presença de uma audiência na gravação. Valores mais altos indicam uma maior probabilidade da música ter sido gravada ao vivo. Um valor acima de 0.8 indica uma probabilidade bem alta da música ser ao vivo.\n",
        "\n",
        "**loudness** (volume): O de forma geral o volume da música em debicéis (dB). Esses valores são uma média do volume ao longo de toda a faixa e são úteis para comparar o volume relativo entre outras faixas de música. O volume é a primeira qualidade de um som que é psicológicamente correlacionada com a força física (amplitude). Valores tipicamente estão entre -60 e 0 dB.\n",
        "\n",
        "**audio_mode** (modo de áudio): Indica a modalidade (maior ou menor) de uma música, mostra o tipo da escala a qual o seu conteúdo melódico é derivada. Maior é representado por 1 e menor por 0.\n",
        "\n",
        "**speechiness** (fala/discurso): Esse fator detecta a presença de palavras faladas dentro da musica. Quanto mais voltada para o discurso é a gravação (por exemplo: entrevistas, audiolivro, poesia), mais próximo de 1.0 vale esse atributo. Valores acima de 0.66 descrevem faixas que provavelmente são feitas apedas de discursos. Valores entre 0.33 e 0.66 descrevem faixam que provavelmente contém tanto música e fala, em seções ou camadas, incuindo casos como música rap. Valores abaixo de 0.33 são mais prováveis de representarem música e outras faixas que não são como discursos.\n",
        "\n",
        "**tempo** (ritmo): De forma geral mostra qual o ritmo estimado da faixa em batidas por minuto (BPM). Em terminologia musical, tempo é a velocidade ou duração de cada compasso, o que deriva diretamente da média de duração da batida.\n",
        "\n",
        "**time_signature** (Assinatura de tempo): Uma estimativa geral da assinatura de tempo de uma faixa. A assinatura de tempo (medida) é uma convenção notacional para especificar quantas batidas (pulsos) estão em cada barra (segmento de tempo dividido regularmente).\n",
        "\n",
        "**audio_valence** (valência de áudio): Uma medida de 0.0 até 1.0 que descreve a positividade musical transmitida por uma faixa de música. As faixas com alta valência coam mais positivas (por exemplo: felizes, alegra, eufóricas), enquanto faixas com baixa valência soam mais negativas (por exemplo: tristes, deprimidas, zangadas)."
      ]
    },
    {
      "cell_type": "markdown",
      "metadata": {
        "id": "EUz2gbn2LPRz",
        "colab_type": "text"
      },
      "source": [
        "# **Importando bibliotecas e dados**"
      ]
    },
    {
      "cell_type": "code",
      "metadata": {
        "id": "PIIBrKfeLLM8",
        "colab_type": "code",
        "colab": {}
      },
      "source": [
        "import pandas as pd\n",
        "import matplotlib.pyplot as plt\n",
        "import seaborn as sns\n",
        "import numpy as np"
      ],
      "execution_count": 0,
      "outputs": []
    },
    {
      "cell_type": "code",
      "metadata": {
        "id": "jEES83T0nWmp",
        "colab_type": "code",
        "colab": {}
      },
      "source": [
        "df = pd.read_csv('spotify.csv')\n",
        "df.drop('Unnamed: 0', axis=1, inplace=True) #Tira segunda coluna de index numérico (inútil)\n",
        "df.set_index('song_name', inplace=True) #Tira index padrão do pandas e usa o nome"
      ],
      "execution_count": 0,
      "outputs": []
    },
    {
      "cell_type": "markdown",
      "metadata": {
        "id": "JkFlQdqYcsTe",
        "colab_type": "text"
      },
      "source": [
        "# **Observações iniciais:**"
      ]
    },
    {
      "cell_type": "code",
      "metadata": {
        "id": "M4pkKEdZLqt5",
        "colab_type": "code",
        "outputId": "8777e588-4565-4563-b10c-c43f6278e9de",
        "colab": {
          "base_uri": "https://localhost:8080/",
          "height": 820
        }
      },
      "source": [
        "df.sort_index(inplace=True) #Deixa os indexes em ordem alfabética\n",
        "df.head(15) #Mostra primeiras linhas do dataframe"
      ],
      "execution_count": 860,
      "outputs": [
        {
          "output_type": "execute_result",
          "data": {
            "text/html": [
              "<div>\n",
              "<style scoped>\n",
              "    .dataframe tbody tr th:only-of-type {\n",
              "        vertical-align: middle;\n",
              "    }\n",
              "\n",
              "    .dataframe tbody tr th {\n",
              "        vertical-align: top;\n",
              "    }\n",
              "\n",
              "    .dataframe thead th {\n",
              "        text-align: right;\n",
              "    }\n",
              "</style>\n",
              "<table border=\"1\" class=\"dataframe\">\n",
              "  <thead>\n",
              "    <tr style=\"text-align: right;\">\n",
              "      <th></th>\n",
              "      <th>song_popularity</th>\n",
              "      <th>song_duration_ms</th>\n",
              "      <th>acousticness</th>\n",
              "      <th>danceability</th>\n",
              "      <th>energy</th>\n",
              "      <th>instrumentalness</th>\n",
              "      <th>key</th>\n",
              "      <th>liveness</th>\n",
              "      <th>loudness</th>\n",
              "      <th>audio_mode</th>\n",
              "      <th>speechiness</th>\n",
              "      <th>tempo</th>\n",
              "      <th>time_signature</th>\n",
              "      <th>audio_valence</th>\n",
              "    </tr>\n",
              "    <tr>\n",
              "      <th>song_name</th>\n",
              "      <th></th>\n",
              "      <th></th>\n",
              "      <th></th>\n",
              "      <th></th>\n",
              "      <th></th>\n",
              "      <th></th>\n",
              "      <th></th>\n",
              "      <th></th>\n",
              "      <th></th>\n",
              "      <th></th>\n",
              "      <th></th>\n",
              "      <th></th>\n",
              "      <th></th>\n",
              "      <th></th>\n",
              "    </tr>\n",
              "  </thead>\n",
              "  <tbody>\n",
              "    <tr>\n",
              "      <th>\"40\" - Live Version 1983</th>\n",
              "      <td>1</td>\n",
              "      <td>225440</td>\n",
              "      <td>0.109kg</td>\n",
              "      <td>0.257mol/L</td>\n",
              "      <td>0.472</td>\n",
              "      <td>0.000945</td>\n",
              "      <td>8.000</td>\n",
              "      <td>0.8290000000000001</td>\n",
              "      <td>-16.259</td>\n",
              "      <td>1</td>\n",
              "      <td>0.0399</td>\n",
              "      <td>143.517</td>\n",
              "      <td>4</td>\n",
              "      <td>0.286</td>\n",
              "    </tr>\n",
              "    <tr>\n",
              "      <th>\"45\"</th>\n",
              "      <td>48</td>\n",
              "      <td>202493</td>\n",
              "      <td>0.000696kg</td>\n",
              "      <td>0.315mol/L</td>\n",
              "      <td>0.97</td>\n",
              "      <td>0.0</td>\n",
              "      <td>8.000</td>\n",
              "      <td>0.277</td>\n",
              "      <td>-4.709</td>\n",
              "      <td>1</td>\n",
              "      <td>0.102</td>\n",
              "      <td>178.06799999999996</td>\n",
              "      <td>4</td>\n",
              "      <td>0.423</td>\n",
              "    </tr>\n",
              "    <tr>\n",
              "      <th>\"99\"</th>\n",
              "      <td>67</td>\n",
              "      <td>199413</td>\n",
              "      <td>0.00598kg</td>\n",
              "      <td>0.552mol/L</td>\n",
              "      <td>0.804</td>\n",
              "      <td>0.0</td>\n",
              "      <td>8.000</td>\n",
              "      <td>0.111</td>\n",
              "      <td>-4.299</td>\n",
              "      <td>1</td>\n",
              "      <td>0.0303</td>\n",
              "      <td>95.98</td>\n",
              "      <td>4</td>\n",
              "      <td>0.714</td>\n",
              "    </tr>\n",
              "    <tr>\n",
              "      <th>\"Heroes\" - Single Version; 2014 Remastered Version</th>\n",
              "      <td>58</td>\n",
              "      <td>213813</td>\n",
              "      <td>0.016kg</td>\n",
              "      <td>0.502mol/L</td>\n",
              "      <td>0.6809999999999999</td>\n",
              "      <td>0.107</td>\n",
              "      <td>7.000</td>\n",
              "      <td>0.102</td>\n",
              "      <td>-8.263</td>\n",
              "      <td>1</td>\n",
              "      <td>0.0276</td>\n",
              "      <td>112.16</td>\n",
              "      <td>4</td>\n",
              "      <td>0.584</td>\n",
              "    </tr>\n",
              "    <tr>\n",
              "      <th>#CaixaGang</th>\n",
              "      <td>10</td>\n",
              "      <td>208484</td>\n",
              "      <td>0.612kg</td>\n",
              "      <td>0.6970000000000001mol/L</td>\n",
              "      <td>0.907</td>\n",
              "      <td>0.282</td>\n",
              "      <td>3.000</td>\n",
              "      <td>0.0624</td>\n",
              "      <td>-5.13</td>\n",
              "      <td>1</td>\n",
              "      <td>0.092</td>\n",
              "      <td>98.953</td>\n",
              "      <td>4</td>\n",
              "      <td>0.542</td>\n",
              "    </tr>\n",
              "    <tr>\n",
              "      <th>#SELFIE</th>\n",
              "      <td>27</td>\n",
              "      <td>183750</td>\n",
              "      <td>0.0136kg</td>\n",
              "      <td>0.8079999999999999mol/L</td>\n",
              "      <td>0.915</td>\n",
              "      <td>9.03e-06</td>\n",
              "      <td>0.000</td>\n",
              "      <td>0.0788</td>\n",
              "      <td>-3.277</td>\n",
              "      <td>1</td>\n",
              "      <td>0.233</td>\n",
              "      <td>127.984</td>\n",
              "      <td>4</td>\n",
              "      <td>0.647</td>\n",
              "    </tr>\n",
              "    <tr>\n",
              "      <th>$$$ - with Matt Ox</th>\n",
              "      <td>78</td>\n",
              "      <td>130403</td>\n",
              "      <td>0.0636kg</td>\n",
              "      <td>0.774mol/L</td>\n",
              "      <td>0.507</td>\n",
              "      <td>0.0</td>\n",
              "      <td>1.000</td>\n",
              "      <td>0.138</td>\n",
              "      <td>-6.952000000000001</td>\n",
              "      <td>0</td>\n",
              "      <td>0.065</td>\n",
              "      <td>140.067</td>\n",
              "      <td>4</td>\n",
              "      <td>0.508</td>\n",
              "    </tr>\n",
              "    <tr>\n",
              "      <th>$orries</th>\n",
              "      <td>62</td>\n",
              "      <td>214857</td>\n",
              "      <td>0.7609999999999999kg</td>\n",
              "      <td>0.526mol/L</td>\n",
              "      <td>0.236</td>\n",
              "      <td>0.00387</td>\n",
              "      <td>2.000</td>\n",
              "      <td>0.126</td>\n",
              "      <td>-13.59</td>\n",
              "      <td>0</td>\n",
              "      <td>0.0955</td>\n",
              "      <td>103.401</td>\n",
              "      <td>4</td>\n",
              "      <td>0.299</td>\n",
              "    </tr>\n",
              "    <tr>\n",
              "      <th>&amp; Down</th>\n",
              "      <td>0</td>\n",
              "      <td>258133</td>\n",
              "      <td>0.0473kg</td>\n",
              "      <td>0.619mol/L</td>\n",
              "      <td>0.629</td>\n",
              "      <td>0.227</td>\n",
              "      <td>1.000</td>\n",
              "      <td>0.314</td>\n",
              "      <td>-4.109</td>\n",
              "      <td>0</td>\n",
              "      <td>0.33</td>\n",
              "      <td>123.003</td>\n",
              "      <td>4</td>\n",
              "      <td>0.262</td>\n",
              "    </tr>\n",
              "    <tr>\n",
              "      <th>&amp;burn (with Vince Staples)</th>\n",
              "      <td>28</td>\n",
              "      <td>179015</td>\n",
              "      <td>0.194kg</td>\n",
              "      <td>0.787mol/L</td>\n",
              "      <td>0.379</td>\n",
              "      <td>0.00131</td>\n",
              "      <td>9.000</td>\n",
              "      <td>0.099</td>\n",
              "      <td>-9.364</td>\n",
              "      <td>0</td>\n",
              "      <td>0.245</td>\n",
              "      <td>82.52</td>\n",
              "      <td>4</td>\n",
              "      <td>0.344</td>\n",
              "    </tr>\n",
              "    <tr>\n",
              "      <th>'Til I Get It Right</th>\n",
              "      <td>35</td>\n",
              "      <td>157933</td>\n",
              "      <td>0.843kg</td>\n",
              "      <td>0.528mol/L</td>\n",
              "      <td>0.146</td>\n",
              "      <td>0.000356</td>\n",
              "      <td>0.000</td>\n",
              "      <td>0.101</td>\n",
              "      <td>-13.271</td>\n",
              "      <td>1</td>\n",
              "      <td>0.0288</td>\n",
              "      <td>133.894</td>\n",
              "      <td>4</td>\n",
              "      <td>0.336</td>\n",
              "    </tr>\n",
              "    <tr>\n",
              "      <th>'Till I Collapse</th>\n",
              "      <td>85</td>\n",
              "      <td>297893</td>\n",
              "      <td>0.0757kg</td>\n",
              "      <td>0.5720000000000001mol/L</td>\n",
              "      <td>0.853</td>\n",
              "      <td>0.0</td>\n",
              "      <td>1.000</td>\n",
              "      <td>0.0798</td>\n",
              "      <td>-3.2030000000000003</td>\n",
              "      <td>1</td>\n",
              "      <td>0.217</td>\n",
              "      <td>171.297</td>\n",
              "      <td>4</td>\n",
              "      <td>0.102</td>\n",
              "    </tr>\n",
              "    <tr>\n",
              "      <th>'Till I Collapse</th>\n",
              "      <td>85</td>\n",
              "      <td>297893</td>\n",
              "      <td>0.0757kg</td>\n",
              "      <td>0.5720000000000001mol/L</td>\n",
              "      <td>0.853</td>\n",
              "      <td>0.0</td>\n",
              "      <td>1.000</td>\n",
              "      <td>0.0798</td>\n",
              "      <td>-3.2030000000000003</td>\n",
              "      <td>1</td>\n",
              "      <td>0.217</td>\n",
              "      <td>171.297</td>\n",
              "      <td>4</td>\n",
              "      <td>0.102</td>\n",
              "    </tr>\n",
              "    <tr>\n",
              "      <th>'Till I Collapse</th>\n",
              "      <td>85</td>\n",
              "      <td>297893</td>\n",
              "      <td>0.0757kg</td>\n",
              "      <td>0.5720000000000001mol/L</td>\n",
              "      <td>0.853</td>\n",
              "      <td>0.0</td>\n",
              "      <td>1.000</td>\n",
              "      <td>0.0798</td>\n",
              "      <td>-3.2030000000000003</td>\n",
              "      <td>1</td>\n",
              "      <td>0.217</td>\n",
              "      <td>171.297</td>\n",
              "      <td>4</td>\n",
              "      <td>0.102</td>\n",
              "    </tr>\n",
              "    <tr>\n",
              "      <th>(Don't Fear) The Reaper</th>\n",
              "      <td>76</td>\n",
              "      <td>308120</td>\n",
              "      <td>0.0029kg</td>\n",
              "      <td>0.333mol/L</td>\n",
              "      <td>0.927</td>\n",
              "      <td>0.000211</td>\n",
              "      <td>9.000</td>\n",
              "      <td>0.297</td>\n",
              "      <td>-8.55</td>\n",
              "      <td>0</td>\n",
              "      <td>0.0733</td>\n",
              "      <td>141.47</td>\n",
              "      <td>4</td>\n",
              "      <td>0.382</td>\n",
              "    </tr>\n",
              "  </tbody>\n",
              "</table>\n",
              "</div>"
            ],
            "text/plain": [
              "                                                   song_popularity  ... audio_valence\n",
              "song_name                                                           ...              \n",
              "\"40\" - Live Version 1983                                         1  ...         0.286\n",
              "\"45\"                                                            48  ...         0.423\n",
              "\"99\"                                                            67  ...         0.714\n",
              "\"Heroes\" - Single Version; 2014 Remastered Version              58  ...         0.584\n",
              "#CaixaGang                                                      10  ...         0.542\n",
              "#SELFIE                                                         27  ...         0.647\n",
              "$$$ - with Matt Ox                                              78  ...         0.508\n",
              "$orries                                                         62  ...         0.299\n",
              "& Down                                                           0  ...         0.262\n",
              "&burn (with Vince Staples)                                      28  ...         0.344\n",
              "'Til I Get It Right                                             35  ...         0.336\n",
              "'Till I Collapse                                                85  ...         0.102\n",
              "'Till I Collapse                                                85  ...         0.102\n",
              "'Till I Collapse                                                85  ...         0.102\n",
              "(Don't Fear) The Reaper                                         76  ...         0.382\n",
              "\n",
              "[15 rows x 14 columns]"
            ]
          },
          "metadata": {
            "tags": []
          },
          "execution_count": 860
        }
      ]
    },
    {
      "cell_type": "code",
      "metadata": {
        "id": "oVeN5mwtrppL",
        "colab_type": "code",
        "outputId": "2f3d7308-edaf-4ac9-80a8-e392a40e3582",
        "colab": {
          "base_uri": "https://localhost:8080/",
          "height": 1000
        }
      },
      "source": [
        "df.sort_values('song_popularity', ascending=False, inplace=True) #Deixa as músicas em ordem de popularidade\n",
        "df.head(15)"
      ],
      "execution_count": 861,
      "outputs": [
        {
          "output_type": "execute_result",
          "data": {
            "text/html": [
              "<div>\n",
              "<style scoped>\n",
              "    .dataframe tbody tr th:only-of-type {\n",
              "        vertical-align: middle;\n",
              "    }\n",
              "\n",
              "    .dataframe tbody tr th {\n",
              "        vertical-align: top;\n",
              "    }\n",
              "\n",
              "    .dataframe thead th {\n",
              "        text-align: right;\n",
              "    }\n",
              "</style>\n",
              "<table border=\"1\" class=\"dataframe\">\n",
              "  <thead>\n",
              "    <tr style=\"text-align: right;\">\n",
              "      <th></th>\n",
              "      <th>song_popularity</th>\n",
              "      <th>song_duration_ms</th>\n",
              "      <th>acousticness</th>\n",
              "      <th>danceability</th>\n",
              "      <th>energy</th>\n",
              "      <th>instrumentalness</th>\n",
              "      <th>key</th>\n",
              "      <th>liveness</th>\n",
              "      <th>loudness</th>\n",
              "      <th>audio_mode</th>\n",
              "      <th>speechiness</th>\n",
              "      <th>tempo</th>\n",
              "      <th>time_signature</th>\n",
              "      <th>audio_valence</th>\n",
              "    </tr>\n",
              "    <tr>\n",
              "      <th>song_name</th>\n",
              "      <th></th>\n",
              "      <th></th>\n",
              "      <th></th>\n",
              "      <th></th>\n",
              "      <th></th>\n",
              "      <th></th>\n",
              "      <th></th>\n",
              "      <th></th>\n",
              "      <th></th>\n",
              "      <th></th>\n",
              "      <th></th>\n",
              "      <th></th>\n",
              "      <th></th>\n",
              "      <th></th>\n",
              "    </tr>\n",
              "  </thead>\n",
              "  <tbody>\n",
              "    <tr>\n",
              "      <th>Party In The U.S.A.</th>\n",
              "      <td>nao_sei</td>\n",
              "      <td>0.8220000000000001kg</td>\n",
              "      <td>0.519mol/L</td>\n",
              "      <td>0.36</td>\n",
              "      <td>0.0</td>\n",
              "      <td>10</td>\n",
              "      <td>0.177</td>\n",
              "      <td>-8.575</td>\n",
              "      <td>0</td>\n",
              "      <td>0.105</td>\n",
              "      <td>97.42</td>\n",
              "      <td>4</td>\n",
              "      <td>0.7</td>\n",
              "      <td>nan</td>\n",
              "    </tr>\n",
              "    <tr>\n",
              "      <th>I Love It (&amp; Lil Pump)</th>\n",
              "      <td>99</td>\n",
              "      <td>127946</td>\n",
              "      <td>0.0114kg</td>\n",
              "      <td>0.901mol/L</td>\n",
              "      <td>0.522</td>\n",
              "      <td>0.0</td>\n",
              "      <td>2.000</td>\n",
              "      <td>0.259</td>\n",
              "      <td>-8.304</td>\n",
              "      <td>1</td>\n",
              "      <td>0.33</td>\n",
              "      <td>104.053</td>\n",
              "      <td>4</td>\n",
              "      <td>0.329</td>\n",
              "    </tr>\n",
              "    <tr>\n",
              "      <th>I Love It (&amp; Lil Pump)</th>\n",
              "      <td>99</td>\n",
              "      <td>127946</td>\n",
              "      <td>0.0114kg</td>\n",
              "      <td>0.901mol/L</td>\n",
              "      <td>0.522</td>\n",
              "      <td>0.0</td>\n",
              "      <td>2.000</td>\n",
              "      <td>0.259</td>\n",
              "      <td>-8.304</td>\n",
              "      <td>1</td>\n",
              "      <td>0.33</td>\n",
              "      <td>104.053</td>\n",
              "      <td>4</td>\n",
              "      <td>0.329</td>\n",
              "    </tr>\n",
              "    <tr>\n",
              "      <th>I Love It (&amp; Lil Pump)</th>\n",
              "      <td>99</td>\n",
              "      <td>127946</td>\n",
              "      <td>0.0114kg</td>\n",
              "      <td>0.901mol/L</td>\n",
              "      <td>0.522</td>\n",
              "      <td>0.0</td>\n",
              "      <td>2.000</td>\n",
              "      <td>0.259</td>\n",
              "      <td>-8.304</td>\n",
              "      <td>1</td>\n",
              "      <td>0.33</td>\n",
              "      <td>104.053</td>\n",
              "      <td>4</td>\n",
              "      <td>0.329</td>\n",
              "    </tr>\n",
              "    <tr>\n",
              "      <th>I Love It (&amp; Lil Pump)</th>\n",
              "      <td>99</td>\n",
              "      <td>127946</td>\n",
              "      <td>0.0114kg</td>\n",
              "      <td>0.901mol/L</td>\n",
              "      <td>0.522</td>\n",
              "      <td>0.0</td>\n",
              "      <td>2.000</td>\n",
              "      <td>0.259</td>\n",
              "      <td>-8.304</td>\n",
              "      <td>1</td>\n",
              "      <td>0.33</td>\n",
              "      <td>104.053</td>\n",
              "      <td>4</td>\n",
              "      <td>0.329</td>\n",
              "    </tr>\n",
              "    <tr>\n",
              "      <th>I Love It (&amp; Lil Pump)</th>\n",
              "      <td>99</td>\n",
              "      <td>127946</td>\n",
              "      <td>0.0114kg</td>\n",
              "      <td>0.901mol/L</td>\n",
              "      <td>0.522</td>\n",
              "      <td>0.0</td>\n",
              "      <td>2.000</td>\n",
              "      <td>0.259</td>\n",
              "      <td>-8.304</td>\n",
              "      <td>1</td>\n",
              "      <td>0.33</td>\n",
              "      <td>104.053</td>\n",
              "      <td>4</td>\n",
              "      <td>0.329</td>\n",
              "    </tr>\n",
              "    <tr>\n",
              "      <th>I Love It (&amp; Lil Pump)</th>\n",
              "      <td>99</td>\n",
              "      <td>127946</td>\n",
              "      <td>0.0114kg</td>\n",
              "      <td>0.901mol/L</td>\n",
              "      <td>0.522</td>\n",
              "      <td>0.0</td>\n",
              "      <td>2.000</td>\n",
              "      <td>0.259</td>\n",
              "      <td>-8.304</td>\n",
              "      <td>1</td>\n",
              "      <td>0.33</td>\n",
              "      <td>104.053</td>\n",
              "      <td>4</td>\n",
              "      <td>0.329</td>\n",
              "    </tr>\n",
              "    <tr>\n",
              "      <th>I Love It (&amp; Lil Pump)</th>\n",
              "      <td>99</td>\n",
              "      <td>127946</td>\n",
              "      <td>0.0114kg</td>\n",
              "      <td>0.901mol/L</td>\n",
              "      <td>0.522</td>\n",
              "      <td>0.0</td>\n",
              "      <td>2.000</td>\n",
              "      <td>0.259</td>\n",
              "      <td>-8.304</td>\n",
              "      <td>1</td>\n",
              "      <td>0.33</td>\n",
              "      <td>104.053</td>\n",
              "      <td>4</td>\n",
              "      <td>0.329</td>\n",
              "    </tr>\n",
              "    <tr>\n",
              "      <th>I Love It (&amp; Lil Pump)</th>\n",
              "      <td>99</td>\n",
              "      <td>127946</td>\n",
              "      <td>0.0114kg</td>\n",
              "      <td>0.901mol/L</td>\n",
              "      <td>0.522</td>\n",
              "      <td>0.0</td>\n",
              "      <td>2.000</td>\n",
              "      <td>0.259</td>\n",
              "      <td>-8.304</td>\n",
              "      <td>1</td>\n",
              "      <td>0.33</td>\n",
              "      <td>104.053</td>\n",
              "      <td>4</td>\n",
              "      <td>0.329</td>\n",
              "    </tr>\n",
              "    <tr>\n",
              "      <th>I Love It (&amp; Lil Pump)</th>\n",
              "      <td>99</td>\n",
              "      <td>127946</td>\n",
              "      <td>0.0114kg</td>\n",
              "      <td>0.901mol/L</td>\n",
              "      <td>0.522</td>\n",
              "      <td>0.0</td>\n",
              "      <td>2.000</td>\n",
              "      <td>0.259</td>\n",
              "      <td>-8.304</td>\n",
              "      <td>1</td>\n",
              "      <td>0.33</td>\n",
              "      <td>104.053</td>\n",
              "      <td>4</td>\n",
              "      <td>0.329</td>\n",
              "    </tr>\n",
              "    <tr>\n",
              "      <th>I Love It (&amp; Lil Pump)</th>\n",
              "      <td>99</td>\n",
              "      <td>127946</td>\n",
              "      <td>0.0114kg</td>\n",
              "      <td>0.901mol/L</td>\n",
              "      <td>0.522</td>\n",
              "      <td>0.0</td>\n",
              "      <td>2.000</td>\n",
              "      <td>0.259</td>\n",
              "      <td>-8.304</td>\n",
              "      <td>1</td>\n",
              "      <td>0.33</td>\n",
              "      <td>104.053</td>\n",
              "      <td>4</td>\n",
              "      <td>0.329</td>\n",
              "    </tr>\n",
              "    <tr>\n",
              "      <th>I Love It (&amp; Lil Pump)</th>\n",
              "      <td>99</td>\n",
              "      <td>127946</td>\n",
              "      <td>0.0114kg</td>\n",
              "      <td>0.901mol/L</td>\n",
              "      <td>0.522</td>\n",
              "      <td>0.0</td>\n",
              "      <td>2.000</td>\n",
              "      <td>0.259</td>\n",
              "      <td>-8.304</td>\n",
              "      <td>1</td>\n",
              "      <td>0.33</td>\n",
              "      <td>104.053</td>\n",
              "      <td>4</td>\n",
              "      <td>0.329</td>\n",
              "    </tr>\n",
              "    <tr>\n",
              "      <th>I Love It (&amp; Lil Pump)</th>\n",
              "      <td>99</td>\n",
              "      <td>127946</td>\n",
              "      <td>0.0114kg</td>\n",
              "      <td>0.901mol/L</td>\n",
              "      <td>0.522</td>\n",
              "      <td>0.0</td>\n",
              "      <td>2.000</td>\n",
              "      <td>0.259</td>\n",
              "      <td>-8.304</td>\n",
              "      <td>1</td>\n",
              "      <td>0.33</td>\n",
              "      <td>104.053</td>\n",
              "      <td>4</td>\n",
              "      <td>0.329</td>\n",
              "    </tr>\n",
              "    <tr>\n",
              "      <th>I Love It (&amp; Lil Pump)</th>\n",
              "      <td>99</td>\n",
              "      <td>127946</td>\n",
              "      <td>0.0114kg</td>\n",
              "      <td>0.901mol/L</td>\n",
              "      <td>0.522</td>\n",
              "      <td>0.0</td>\n",
              "      <td>2.000</td>\n",
              "      <td>0.259</td>\n",
              "      <td>-8.304</td>\n",
              "      <td>1</td>\n",
              "      <td>0.33</td>\n",
              "      <td>104.053</td>\n",
              "      <td>4</td>\n",
              "      <td>0.329</td>\n",
              "    </tr>\n",
              "    <tr>\n",
              "      <th>I Love It (&amp; Lil Pump)</th>\n",
              "      <td>99</td>\n",
              "      <td>127946</td>\n",
              "      <td>0.0114kg</td>\n",
              "      <td>0.901mol/L</td>\n",
              "      <td>0.522</td>\n",
              "      <td>0.0</td>\n",
              "      <td>2.000</td>\n",
              "      <td>0.259</td>\n",
              "      <td>-8.304</td>\n",
              "      <td>1</td>\n",
              "      <td>0.33</td>\n",
              "      <td>104.053</td>\n",
              "      <td>4</td>\n",
              "      <td>0.329</td>\n",
              "    </tr>\n",
              "  </tbody>\n",
              "</table>\n",
              "</div>"
            ],
            "text/plain": [
              "                       song_popularity  ... audio_valence\n",
              "song_name                               ...              \n",
              "Party In The U.S.A.            nao_sei  ...           nan\n",
              "I Love It (& Lil Pump)              99  ...         0.329\n",
              "I Love It (& Lil Pump)              99  ...         0.329\n",
              "I Love It (& Lil Pump)              99  ...         0.329\n",
              "I Love It (& Lil Pump)              99  ...         0.329\n",
              "I Love It (& Lil Pump)              99  ...         0.329\n",
              "I Love It (& Lil Pump)              99  ...         0.329\n",
              "I Love It (& Lil Pump)              99  ...         0.329\n",
              "I Love It (& Lil Pump)              99  ...         0.329\n",
              "I Love It (& Lil Pump)              99  ...         0.329\n",
              "I Love It (& Lil Pump)              99  ...         0.329\n",
              "I Love It (& Lil Pump)              99  ...         0.329\n",
              "I Love It (& Lil Pump)              99  ...         0.329\n",
              "I Love It (& Lil Pump)              99  ...         0.329\n",
              "I Love It (& Lil Pump)              99  ...         0.329\n",
              "\n",
              "[15 rows x 14 columns]"
            ]
          },
          "metadata": {
            "tags": []
          },
          "execution_count": 861
        }
      ]
    },
    {
      "cell_type": "code",
      "metadata": {
        "id": "Mn21o_75Lq2h",
        "colab_type": "code",
        "outputId": "26f69f0f-aabf-404e-face-10bcf4ffa125",
        "colab": {
          "base_uri": "https://localhost:8080/",
          "height": 374
        }
      },
      "source": [
        "df.info()"
      ],
      "execution_count": 862,
      "outputs": [
        {
          "output_type": "stream",
          "text": [
            "<class 'pandas.core.frame.DataFrame'>\n",
            "Index: 18835 entries, Party In The U.S.A. to Coupe (feat. Rich The Kid)\n",
            "Data columns (total 14 columns):\n",
            " #   Column            Non-Null Count  Dtype  \n",
            "---  ------            --------------  -----  \n",
            " 0   song_popularity   18835 non-null  object \n",
            " 1   song_duration_ms  18835 non-null  object \n",
            " 2   acousticness      18835 non-null  object \n",
            " 3   danceability      18835 non-null  object \n",
            " 4   energy            18835 non-null  object \n",
            " 5   instrumentalness  18835 non-null  object \n",
            " 6   key               18835 non-null  float64\n",
            " 7   liveness          18835 non-null  object \n",
            " 8   loudness          18835 non-null  object \n",
            " 9   audio_mode        18835 non-null  object \n",
            " 10  speechiness       18835 non-null  object \n",
            " 11  tempo             18835 non-null  object \n",
            " 12  time_signature    18835 non-null  object \n",
            " 13  audio_valence     18834 non-null  float64\n",
            "dtypes: float64(2), object(12)\n",
            "memory usage: 2.2+ MB\n"
          ],
          "name": "stdout"
        }
      ]
    },
    {
      "cell_type": "code",
      "metadata": {
        "id": "RTi_ayHSLq-S",
        "colab_type": "code",
        "outputId": "e5cda6bd-0f66-48b0-df8f-406dec718ef8",
        "colab": {
          "base_uri": "https://localhost:8080/",
          "height": 297
        }
      },
      "source": [
        "df.describe()"
      ],
      "execution_count": 863,
      "outputs": [
        {
          "output_type": "execute_result",
          "data": {
            "text/html": [
              "<div>\n",
              "<style scoped>\n",
              "    .dataframe tbody tr th:only-of-type {\n",
              "        vertical-align: middle;\n",
              "    }\n",
              "\n",
              "    .dataframe tbody tr th {\n",
              "        vertical-align: top;\n",
              "    }\n",
              "\n",
              "    .dataframe thead th {\n",
              "        text-align: right;\n",
              "    }\n",
              "</style>\n",
              "<table border=\"1\" class=\"dataframe\">\n",
              "  <thead>\n",
              "    <tr style=\"text-align: right;\">\n",
              "      <th></th>\n",
              "      <th>key</th>\n",
              "      <th>audio_valence</th>\n",
              "    </tr>\n",
              "  </thead>\n",
              "  <tbody>\n",
              "    <tr>\n",
              "      <th>count</th>\n",
              "      <td>18835.000</td>\n",
              "      <td>18834.000</td>\n",
              "    </tr>\n",
              "    <tr>\n",
              "      <th>mean</th>\n",
              "      <td>5.289</td>\n",
              "      <td>0.528</td>\n",
              "    </tr>\n",
              "    <tr>\n",
              "      <th>std</th>\n",
              "      <td>3.615</td>\n",
              "      <td>0.245</td>\n",
              "    </tr>\n",
              "    <tr>\n",
              "      <th>min</th>\n",
              "      <td>0.000</td>\n",
              "      <td>0.000</td>\n",
              "    </tr>\n",
              "    <tr>\n",
              "      <th>25%</th>\n",
              "      <td>2.000</td>\n",
              "      <td>0.335</td>\n",
              "    </tr>\n",
              "    <tr>\n",
              "      <th>50%</th>\n",
              "      <td>5.000</td>\n",
              "      <td>0.526</td>\n",
              "    </tr>\n",
              "    <tr>\n",
              "      <th>75%</th>\n",
              "      <td>8.000</td>\n",
              "      <td>0.725</td>\n",
              "    </tr>\n",
              "    <tr>\n",
              "      <th>max</th>\n",
              "      <td>11.000</td>\n",
              "      <td>0.984</td>\n",
              "    </tr>\n",
              "  </tbody>\n",
              "</table>\n",
              "</div>"
            ],
            "text/plain": [
              "            key  audio_valence\n",
              "count 18835.000      18834.000\n",
              "mean      5.289          0.528\n",
              "std       3.615          0.245\n",
              "min       0.000          0.000\n",
              "25%       2.000          0.335\n",
              "50%       5.000          0.526\n",
              "75%       8.000          0.725\n",
              "max      11.000          0.984"
            ]
          },
          "metadata": {
            "tags": []
          },
          "execution_count": 863
        }
      ]
    },
    {
      "cell_type": "markdown",
      "metadata": {
        "id": "F7BmNzPlhchL",
        "colab_type": "text"
      },
      "source": [
        "# **Limpeza dos dados:**"
      ]
    },
    {
      "cell_type": "markdown",
      "metadata": {
        "id": "uA4oy4R2sWiI",
        "colab_type": "text"
      },
      "source": [
        "Apenas com as primeiras impressões podemos perceber certos problemas que podem agravar uma análise plena desse DataSet, como por exemplo: linhas repetidas, valores de tempo negativo, dados faltantes, diferentes formatações, valores fora dos limites cabíveis e variáveis numéricas armazenadas como strings.\n"
      ]
    },
    {
      "cell_type": "code",
      "metadata": {
        "id": "fE3dVYcAtQXP",
        "colab_type": "code",
        "outputId": "8e941861-b475-4a28-fa0d-4cfdc7daa23f",
        "colab": {
          "base_uri": "https://localhost:8080/",
          "height": 272
        }
      },
      "source": [
        "duplicados = df[df.duplicated(keep='first')]\n",
        "print(duplicados)"
      ],
      "execution_count": 864,
      "outputs": [
        {
          "output_type": "stream",
          "text": [
            "                              song_popularity  ... audio_valence\n",
            "song_name                                      ...              \n",
            "I Love It (& Lil Pump)                     99  ...         0.329\n",
            "I Love It (& Lil Pump)                     99  ...         0.329\n",
            "I Love It (& Lil Pump)                     99  ...         0.329\n",
            "I Love It (& Lil Pump)                     99  ...         0.329\n",
            "I Love It (& Lil Pump)                     99  ...         0.329\n",
            "...                                       ...  ...           ...\n",
            "Kamakaze                                    0  ...         0.596\n",
            "Coupe (feat. Rich The Kid)                  0  ...         0.851\n",
            "Jet Lag (feat. Young Scooter)               0  ...         0.493\n",
            "John Madden 2                               0  ...         0.409\n",
            "Coupe (feat. Rich The Kid)                  0  ...         0.851\n",
            "\n",
            "[3905 rows x 14 columns]\n"
          ],
          "name": "stdout"
        }
      ]
    },
    {
      "cell_type": "markdown",
      "metadata": {
        "id": "-ynkIgozvlej",
        "colab_type": "text"
      },
      "source": [
        "Existem muitos dados repetidos, vamos tirá-los para não comprometer o nosso DataFrame"
      ]
    },
    {
      "cell_type": "code",
      "metadata": {
        "id": "LTOsMvf1vr93",
        "colab_type": "code",
        "colab": {}
      },
      "source": [
        "df.drop_duplicates(keep='first', inplace=True) #Joga fora repetições (exceto a primeira ocorrência)"
      ],
      "execution_count": 0,
      "outputs": []
    },
    {
      "cell_type": "markdown",
      "metadata": {
        "id": "zIWZv1bFieYQ",
        "colab_type": "text"
      },
      "source": [
        "Vamos trocar o 'nao_sei', por NaN (Not a Number), valor ester usado para representar um valor numérico indefinido ou irrepresentável. (é útil para tratar de dados faltantes)"
      ]
    },
    {
      "cell_type": "code",
      "metadata": {
        "id": "Hw1ozRHklMVi",
        "colab_type": "code",
        "colab": {}
      },
      "source": [
        "df = df.replace(['nao_sei'], np.nan) #Troca 'nao_sei' por NaN"
      ],
      "execution_count": 0,
      "outputs": []
    },
    {
      "cell_type": "markdown",
      "metadata": {
        "id": "ht3DQ31qlWQu",
        "colab_type": "text"
      },
      "source": [
        "Vamos corrigir um pouco essa formatação"
      ]
    },
    {
      "cell_type": "code",
      "metadata": {
        "id": "5eHMS7HulW9T",
        "colab_type": "code",
        "colab": {}
      },
      "source": [
        "pd.set_option('display.float_format', lambda x: '%.3f' % x) #floats ficam com 3 casas depois da vírgula"
      ],
      "execution_count": 0,
      "outputs": []
    },
    {
      "cell_type": "markdown",
      "metadata": {
        "id": "zo4M6TNFicZL",
        "colab_type": "text"
      },
      "source": [
        "Essas linhas de código abaixo servem para remover algumas inconsistências do DataSet, como por exemplo: as unidades estranhas, números fora da formatação e alguns números impossíveis dentro do intervalo."
      ]
    },
    {
      "cell_type": "code",
      "metadata": {
        "id": "oBk3e5DFBoqn",
        "colab_type": "code",
        "colab": {}
      },
      "source": [
        "df['acousticness']       = df['acousticness'].str.strip('kg')\n",
        "df['danceability']       = df['danceability'].str.strip('mol/L')\n",
        "df['song_duration_ms']   = df['song_duration_ms'].str.strip('kg')\n",
        "df['acousticness']       = df['acousticness'].str.strip('mol/L')\n",
        "df['key']                = df['key'].replace([0.177], np.nan)\n",
        "df['audio_mode']         = df['audio_mode'].replace(['0.105'], np.nan)\n",
        "df['speechiness']        = df['speechiness'].replace(['0.nao_sei'], np.nan)\n",
        "df['time_signature']     = df['time_signature'].replace(['0.7', '2800000000'], np.nan)"
      ],
      "execution_count": 0,
      "outputs": []
    },
    {
      "cell_type": "markdown",
      "metadata": {
        "id": "IGOFHtzajKmm",
        "colab_type": "text"
      },
      "source": [
        "Essa sequência abaixo serve para converter nossas colunas para o verdadeiro tipo, dado que nas primeiras impressões vimos classes numéricas e categóricas sendo tratadas da forma indevida. "
      ]
    },
    {
      "cell_type": "code",
      "metadata": {
        "id": "ux9e29OR-TFs",
        "colab_type": "code",
        "colab": {}
      },
      "source": [
        "df['song_popularity']    = df['song_popularity'].astype('category')\n",
        "df['song_duration_ms']   = df['song_duration_ms'].astype('float')\n",
        "df['acousticness']       = df['acousticness'].astype('float')\n",
        "df['danceability']       = df['danceability'].astype('float')\n",
        "df['energy']             = df['energy'].astype('float')\n",
        "df['instrumentalness']   = df['instrumentalness'].astype('float')\n",
        "df['key']                = df['key'].astype('category')\n",
        "df['liveness']           = df['liveness'].astype('float')\n",
        "df['loudness']           = df['loudness'].astype('float')\n",
        "df['audio_mode']         = df['audio_mode'].astype('category')\n",
        "df['speechiness']        = df['speechiness'].astype('float')\n",
        "df['tempo']              = df['tempo'].astype('float')\n",
        "df['time_signature']     = df['time_signature'].astype('category')\n",
        "df['audio_valence']      = df['audio_valence'].astype('float')"
      ],
      "execution_count": 0,
      "outputs": []
    },
    {
      "cell_type": "markdown",
      "metadata": {
        "id": "pRwt7pfyjxct",
        "colab_type": "text"
      },
      "source": [
        "# **Removendo outliers**"
      ]
    },
    {
      "cell_type": "markdown",
      "metadata": {
        "id": "snTmNs3olzYY",
        "colab_type": "text"
      },
      "source": [
        "Outliers são dados que fogem muito o escopo do nosso trabalho e senso de plausível para uma análise geral, drenamos esses dados para modelos de inteligência artificial poderem de uma forma mais geral ter uma melhor acurácia na hora de fazer predições. Outliers entram como eventos impossíveis ou muito fora de proporções para análises consistentes."
      ]
    },
    {
      "cell_type": "code",
      "metadata": {
        "id": "B4Giwkc6mMB9",
        "colab_type": "code",
        "colab": {}
      },
      "source": [
        "df.sort_index(inplace=True) #Arrumando a ordem dos indexes"
      ],
      "execution_count": 0,
      "outputs": []
    },
    {
      "cell_type": "code",
      "metadata": {
        "id": "RIZENZT_KWby",
        "colab_type": "code",
        "outputId": "84d86b11-eead-4ef9-e67f-48d1c7a212b1",
        "colab": {
          "base_uri": "https://localhost:8080/",
          "height": 317
        }
      },
      "source": [
        "df.describe()"
      ],
      "execution_count": 871,
      "outputs": [
        {
          "output_type": "execute_result",
          "data": {
            "text/html": [
              "<div>\n",
              "<style scoped>\n",
              "    .dataframe tbody tr th:only-of-type {\n",
              "        vertical-align: middle;\n",
              "    }\n",
              "\n",
              "    .dataframe tbody tr th {\n",
              "        vertical-align: top;\n",
              "    }\n",
              "\n",
              "    .dataframe thead th {\n",
              "        text-align: right;\n",
              "    }\n",
              "</style>\n",
              "<table border=\"1\" class=\"dataframe\">\n",
              "  <thead>\n",
              "    <tr style=\"text-align: right;\">\n",
              "      <th></th>\n",
              "      <th>song_duration_ms</th>\n",
              "      <th>acousticness</th>\n",
              "      <th>danceability</th>\n",
              "      <th>energy</th>\n",
              "      <th>instrumentalness</th>\n",
              "      <th>liveness</th>\n",
              "      <th>loudness</th>\n",
              "      <th>speechiness</th>\n",
              "      <th>tempo</th>\n",
              "      <th>audio_valence</th>\n",
              "    </tr>\n",
              "  </thead>\n",
              "  <tbody>\n",
              "    <tr>\n",
              "      <th>count</th>\n",
              "      <td>14930.000</td>\n",
              "      <td>14930.000</td>\n",
              "      <td>14930.000</td>\n",
              "      <td>14929.000</td>\n",
              "      <td>14928.000</td>\n",
              "      <td>14926.000</td>\n",
              "      <td>14929.000</td>\n",
              "      <td>14929.000</td>\n",
              "      <td>14929.000</td>\n",
              "      <td>14929.000</td>\n",
              "    </tr>\n",
              "    <tr>\n",
              "      <th>mean</th>\n",
              "      <td>-1240833227.180</td>\n",
              "      <td>0.270</td>\n",
              "      <td>0.625</td>\n",
              "      <td>0.640</td>\n",
              "      <td>0.093</td>\n",
              "      <td>0.180</td>\n",
              "      <td>-7.678</td>\n",
              "      <td>0.106</td>\n",
              "      <td>121.097</td>\n",
              "      <td>0.527</td>\n",
              "    </tr>\n",
              "    <tr>\n",
              "      <th>std</th>\n",
              "      <td>151642153992.694</td>\n",
              "      <td>0.298</td>\n",
              "      <td>0.158</td>\n",
              "      <td>0.222</td>\n",
              "      <td>0.254</td>\n",
              "      <td>0.162</td>\n",
              "      <td>4.020</td>\n",
              "      <td>0.803</td>\n",
              "      <td>29.059</td>\n",
              "      <td>0.248</td>\n",
              "    </tr>\n",
              "    <tr>\n",
              "      <th>min</th>\n",
              "      <td>-18528908788662.000</td>\n",
              "      <td>0.000</td>\n",
              "      <td>0.000</td>\n",
              "      <td>0.000</td>\n",
              "      <td>0.000</td>\n",
              "      <td>-8.575</td>\n",
              "      <td>-38.768</td>\n",
              "      <td>0.000</td>\n",
              "      <td>0.000</td>\n",
              "      <td>0.000</td>\n",
              "    </tr>\n",
              "    <tr>\n",
              "      <th>25%</th>\n",
              "      <td>183932.000</td>\n",
              "      <td>0.024</td>\n",
              "      <td>0.524</td>\n",
              "      <td>0.496</td>\n",
              "      <td>0.000</td>\n",
              "      <td>0.093</td>\n",
              "      <td>-9.390</td>\n",
              "      <td>0.037</td>\n",
              "      <td>98.117</td>\n",
              "      <td>0.332</td>\n",
              "    </tr>\n",
              "    <tr>\n",
              "      <th>50%</th>\n",
              "      <td>211839.500</td>\n",
              "      <td>0.139</td>\n",
              "      <td>0.636</td>\n",
              "      <td>0.672</td>\n",
              "      <td>0.000</td>\n",
              "      <td>0.122</td>\n",
              "      <td>-6.751</td>\n",
              "      <td>0.054</td>\n",
              "      <td>120.016</td>\n",
              "      <td>0.527</td>\n",
              "    </tr>\n",
              "    <tr>\n",
              "      <th>75%</th>\n",
              "      <td>244724.500</td>\n",
              "      <td>0.458</td>\n",
              "      <td>0.740</td>\n",
              "      <td>0.818</td>\n",
              "      <td>0.005</td>\n",
              "      <td>0.224</td>\n",
              "      <td>-4.991</td>\n",
              "      <td>0.113</td>\n",
              "      <td>139.941</td>\n",
              "      <td>0.728</td>\n",
              "    </tr>\n",
              "    <tr>\n",
              "      <th>max</th>\n",
              "      <td>1799346.000</td>\n",
              "      <td>0.996</td>\n",
              "      <td>0.987</td>\n",
              "      <td>0.999</td>\n",
              "      <td>10.000</td>\n",
              "      <td>0.986</td>\n",
              "      <td>1.585</td>\n",
              "      <td>97.420</td>\n",
              "      <td>242.318</td>\n",
              "      <td>0.984</td>\n",
              "    </tr>\n",
              "  </tbody>\n",
              "</table>\n",
              "</div>"
            ],
            "text/plain": [
              "         song_duration_ms  acousticness  ...     tempo  audio_valence\n",
              "count           14930.000     14930.000  ... 14929.000      14929.000\n",
              "mean      -1240833227.180         0.270  ...   121.097          0.527\n",
              "std      151642153992.694         0.298  ...    29.059          0.248\n",
              "min   -18528908788662.000         0.000  ...     0.000          0.000\n",
              "25%            183932.000         0.024  ...    98.117          0.332\n",
              "50%            211839.500         0.139  ...   120.016          0.527\n",
              "75%            244724.500         0.458  ...   139.941          0.728\n",
              "max           1799346.000         0.996  ...   242.318          0.984\n",
              "\n",
              "[8 rows x 10 columns]"
            ]
          },
          "metadata": {
            "tags": []
          },
          "execution_count": 871
        }
      ]
    },
    {
      "cell_type": "markdown",
      "metadata": {
        "id": "rVKwbFEEI1yk",
        "colab_type": "text"
      },
      "source": [
        "Podemos perceber alguns problemas ainda:\n",
        "*   Tempo negativo\n",
        "*   Músicas com mais de 30 minutos\n",
        "*   Músicas menores de 1 minuto\n",
        "*   Valores fora do range de 0.0 até 1.0"
      ]
    },
    {
      "cell_type": "markdown",
      "metadata": {
        "id": "Tvqm1pHXJ2Vi",
        "colab_type": "text"
      },
      "source": [
        "Vamos remover esses dados que não fazem o menor sentido."
      ]
    },
    {
      "cell_type": "code",
      "metadata": {
        "id": "9uSlu0qXJ3SL",
        "colab_type": "code",
        "colab": {}
      },
      "source": [
        "df.loc[df['song_duration_ms'] < 0, 'song_duration_ms'] = np.nan\n",
        "df.loc[df['instrumentalness'] > 1, 'instrumentalness'] = np.nan\n",
        "df.loc[df['liveness'] < 0, 'liveness'] = np.nan\n",
        "df.loc[df['loudness'] > 0, 'loudness'] = np.nan\n",
        "df.loc[df['speechiness'] > 1, 'speechiness'] = np.nan"
      ],
      "execution_count": 0,
      "outputs": []
    },
    {
      "cell_type": "markdown",
      "metadata": {
        "id": "UsMj8PeIKtss",
        "colab_type": "text"
      },
      "source": [
        "Para lidarmos com os outliers, vamos primeiramente abordar uma forma de identificá-los e depois vamos removê-los."
      ]
    },
    {
      "cell_type": "markdown",
      "metadata": {
        "id": "erqNBgsaI7Xz",
        "colab_type": "text"
      },
      "source": [
        "Para identificarmos podemos criar um intervalo de confiança desta forma:\n",
        "\n",
        "*   Limite_inferior = média_coluna - 2.7 * (desvio_padrao_coluna)\n",
        "*   Limite_superior = média_coluna + 2.7 * (desvio_padrao_coluna)\n",
        "\n",
        "Obs.: Vou fazer isso com todas as nossas variáveis numéricas\n",
        "\n",
        "Isso fará com que foquemos apenas em dados entre o Limite_inferior e Limite_superior e, valores fora deste intervalo serão tratados como NaN.\n",
        "\n",
        "A teoria por trás disso pode ser visualizada nessa figura da Wikipedia sobre distribuição normal: [imagem](https://pt.wikipedia.org/wiki/Distribui%C3%A7%C3%A3o_normal#/media/Ficheiro:Boxplot_vs_PDF.svg)"
      ]
    },
    {
      "cell_type": "code",
      "metadata": {
        "id": "iFG3Pbihysom",
        "colab_type": "code",
        "colab": {}
      },
      "source": [
        "def exclui_outliers(DataFrame, col_name):\n",
        "  intervalo = 2.7*DataFrame[col_name].std()\n",
        "  media = DataFrame[col_name].mean()\n",
        "  DataFrame.loc[df[col_name] < (media - intervalo), col_name] = np.nan\n",
        "  DataFrame.loc[df[col_name] > (media + intervalo), col_name] = np.nan"
      ],
      "execution_count": 0,
      "outputs": []
    },
    {
      "cell_type": "code",
      "metadata": {
        "id": "V31SBZ3q0c9t",
        "colab_type": "code",
        "colab": {}
      },
      "source": [
        "float_cols = ['song_duration_ms', 'acousticness', 'danceability',\n",
        "              'energy', 'instrumentalness', 'liveness', \n",
        "              'loudness', 'speechiness', 'tempo','audio_valence']"
      ],
      "execution_count": 0,
      "outputs": []
    },
    {
      "cell_type": "code",
      "metadata": {
        "id": "WZ4VFggLzzpt",
        "colab_type": "code",
        "colab": {}
      },
      "source": [
        "for col in float_cols:\n",
        "  exclui_outliers(df, col)"
      ],
      "execution_count": 0,
      "outputs": []
    },
    {
      "cell_type": "markdown",
      "metadata": {
        "id": "o5fCizKK5rvF",
        "colab_type": "text"
      },
      "source": [
        "# Trabalhando com valores faltantes"
      ]
    },
    {
      "cell_type": "markdown",
      "metadata": {
        "id": "FXFJsWB-LS_e",
        "colab_type": "text"
      },
      "source": [
        "Por mais que dê muita vontade de retirar todos os dados faltantes, fazer isso acarretaria na perda de cerca de 2300 linhas, o que para um DataSet de aproximadamente 15000 entradas (já excluindo as repetidas) é um pouco alto demais (~15% dos dados).\n",
        "\n",
        "Portanto vamos tentar analisar um pouco os nossos dados para saber o que fazer com os dados faltantes em cada caso."
      ]
    },
    {
      "cell_type": "code",
      "metadata": {
        "id": "8T_FK2iV5tSs",
        "colab_type": "code",
        "colab": {}
      },
      "source": [
        "#df.dropna(inplace=True) #Remove NaN's\n",
        "#não vamos utilizar você hoje"
      ],
      "execution_count": 0,
      "outputs": []
    },
    {
      "cell_type": "markdown",
      "metadata": {
        "id": "eUJUto_DOeOs",
        "colab_type": "text"
      },
      "source": [
        "Vamos dar mais uma avaliada no DataSet até o momento e plotar alguns gráficos para vermos o que está acontecendo."
      ]
    },
    {
      "cell_type": "code",
      "metadata": {
        "id": "fD-Jk173kok0",
        "colab_type": "code",
        "colab": {}
      },
      "source": [
        "sns.set(style=\"ticks\")"
      ],
      "execution_count": 0,
      "outputs": []
    },
    {
      "cell_type": "code",
      "metadata": {
        "id": "TNao5cOyb916",
        "colab_type": "code",
        "outputId": "617f7436-7a2a-4d83-c4f5-03ac7119f2fa",
        "colab": {
          "base_uri": "https://localhost:8080/",
          "height": 374
        }
      },
      "source": [
        "df.info()"
      ],
      "execution_count": 878,
      "outputs": [
        {
          "output_type": "stream",
          "text": [
            "<class 'pandas.core.frame.DataFrame'>\n",
            "Index: 14930 entries, \"40\" - Live Version 1983 to 피 땀 눈물\n",
            "Data columns (total 14 columns):\n",
            " #   Column            Non-Null Count  Dtype   \n",
            "---  ------            --------------  -----   \n",
            " 0   song_popularity   14929 non-null  category\n",
            " 1   song_duration_ms  14681 non-null  float64 \n",
            " 2   acousticness      14930 non-null  float64 \n",
            " 3   danceability      14824 non-null  float64 \n",
            " 4   energy            14805 non-null  float64 \n",
            " 5   instrumentalness  13926 non-null  float64 \n",
            " 6   key               14929 non-null  category\n",
            " 7   liveness          14420 non-null  float64 \n",
            " 8   loudness          14583 non-null  float64 \n",
            " 9   audio_mode        14928 non-null  category\n",
            " 10  speechiness       14485 non-null  float64 \n",
            " 11  tempo             14814 non-null  float64 \n",
            " 12  time_signature    14927 non-null  category\n",
            " 13  audio_valence     14929 non-null  float64 \n",
            "dtypes: category(4), float64(10)\n",
            "memory usage: 1.3+ MB\n"
          ],
          "name": "stdout"
        }
      ]
    },
    {
      "cell_type": "markdown",
      "metadata": {
        "id": "QELE1VjNOrlh",
        "colab_type": "text"
      },
      "source": [
        "Podemos perceber que existem, poucos dados faltantes nas maioria das colunas, mas vamos olhar um pouco mais de perto."
      ]
    },
    {
      "cell_type": "code",
      "metadata": {
        "id": "o2x68kzdZPjx",
        "colab_type": "code",
        "outputId": "2d324467-fac6-4cdf-b5f4-b785382f3334",
        "colab": {
          "base_uri": "https://localhost:8080/",
          "height": 317
        }
      },
      "source": [
        "df.describe()"
      ],
      "execution_count": 879,
      "outputs": [
        {
          "output_type": "execute_result",
          "data": {
            "text/html": [
              "<div>\n",
              "<style scoped>\n",
              "    .dataframe tbody tr th:only-of-type {\n",
              "        vertical-align: middle;\n",
              "    }\n",
              "\n",
              "    .dataframe tbody tr th {\n",
              "        vertical-align: top;\n",
              "    }\n",
              "\n",
              "    .dataframe thead th {\n",
              "        text-align: right;\n",
              "    }\n",
              "</style>\n",
              "<table border=\"1\" class=\"dataframe\">\n",
              "  <thead>\n",
              "    <tr style=\"text-align: right;\">\n",
              "      <th></th>\n",
              "      <th>song_duration_ms</th>\n",
              "      <th>acousticness</th>\n",
              "      <th>danceability</th>\n",
              "      <th>energy</th>\n",
              "      <th>instrumentalness</th>\n",
              "      <th>liveness</th>\n",
              "      <th>loudness</th>\n",
              "      <th>speechiness</th>\n",
              "      <th>tempo</th>\n",
              "      <th>audio_valence</th>\n",
              "    </tr>\n",
              "  </thead>\n",
              "  <tbody>\n",
              "    <tr>\n",
              "      <th>count</th>\n",
              "      <td>14681.000</td>\n",
              "      <td>14930.000</td>\n",
              "      <td>14824.000</td>\n",
              "      <td>14805.000</td>\n",
              "      <td>13926.000</td>\n",
              "      <td>14420.000</td>\n",
              "      <td>14583.000</td>\n",
              "      <td>14485.000</td>\n",
              "      <td>14814.000</td>\n",
              "      <td>14929.000</td>\n",
              "    </tr>\n",
              "    <tr>\n",
              "      <th>mean</th>\n",
              "      <td>214852.429</td>\n",
              "      <td>0.270</td>\n",
              "      <td>0.628</td>\n",
              "      <td>0.645</td>\n",
              "      <td>0.036</td>\n",
              "      <td>0.162</td>\n",
              "      <td>-7.319</td>\n",
              "      <td>0.088</td>\n",
              "      <td>120.491</td>\n",
              "      <td>0.527</td>\n",
              "    </tr>\n",
              "    <tr>\n",
              "      <th>std</th>\n",
              "      <td>49794.983</td>\n",
              "      <td>0.298</td>\n",
              "      <td>0.153</td>\n",
              "      <td>0.215</td>\n",
              "      <td>0.120</td>\n",
              "      <td>0.106</td>\n",
              "      <td>3.217</td>\n",
              "      <td>0.080</td>\n",
              "      <td>28.193</td>\n",
              "      <td>0.248</td>\n",
              "    </tr>\n",
              "    <tr>\n",
              "      <th>min</th>\n",
              "      <td>53066.000</td>\n",
              "      <td>0.000</td>\n",
              "      <td>0.198</td>\n",
              "      <td>0.041</td>\n",
              "      <td>0.000</td>\n",
              "      <td>0.011</td>\n",
              "      <td>-18.515</td>\n",
              "      <td>0.000</td>\n",
              "      <td>46.591</td>\n",
              "      <td>0.000</td>\n",
              "    </tr>\n",
              "    <tr>\n",
              "      <th>25%</th>\n",
              "      <td>183453.000</td>\n",
              "      <td>0.024</td>\n",
              "      <td>0.527</td>\n",
              "      <td>0.500</td>\n",
              "      <td>0.000</td>\n",
              "      <td>0.092</td>\n",
              "      <td>-9.151</td>\n",
              "      <td>0.037</td>\n",
              "      <td>98.040</td>\n",
              "      <td>0.332</td>\n",
              "    </tr>\n",
              "    <tr>\n",
              "      <th>50%</th>\n",
              "      <td>211193.000</td>\n",
              "      <td>0.139</td>\n",
              "      <td>0.637</td>\n",
              "      <td>0.674</td>\n",
              "      <td>0.000</td>\n",
              "      <td>0.119</td>\n",
              "      <td>-6.663</td>\n",
              "      <td>0.053</td>\n",
              "      <td>120.002</td>\n",
              "      <td>0.527</td>\n",
              "    </tr>\n",
              "    <tr>\n",
              "      <th>75%</th>\n",
              "      <td>242333.000</td>\n",
              "      <td>0.458</td>\n",
              "      <td>0.741</td>\n",
              "      <td>0.819</td>\n",
              "      <td>0.001</td>\n",
              "      <td>0.205</td>\n",
              "      <td>-4.957</td>\n",
              "      <td>0.103</td>\n",
              "      <td>139.512</td>\n",
              "      <td>0.728</td>\n",
              "    </tr>\n",
              "    <tr>\n",
              "      <th>max</th>\n",
              "      <td>386946.000</td>\n",
              "      <td>0.996</td>\n",
              "      <td>0.987</td>\n",
              "      <td>0.999</td>\n",
              "      <td>0.741</td>\n",
              "      <td>0.572</td>\n",
              "      <td>0.000</td>\n",
              "      <td>0.378</td>\n",
              "      <td>199.402</td>\n",
              "      <td>0.984</td>\n",
              "    </tr>\n",
              "  </tbody>\n",
              "</table>\n",
              "</div>"
            ],
            "text/plain": [
              "       song_duration_ms  acousticness  ...     tempo  audio_valence\n",
              "count         14681.000     14930.000  ... 14814.000      14929.000\n",
              "mean         214852.429         0.270  ...   120.491          0.527\n",
              "std           49794.983         0.298  ...    28.193          0.248\n",
              "min           53066.000         0.000  ...    46.591          0.000\n",
              "25%          183453.000         0.024  ...    98.040          0.332\n",
              "50%          211193.000         0.139  ...   120.002          0.527\n",
              "75%          242333.000         0.458  ...   139.512          0.728\n",
              "max          386946.000         0.996  ...   199.402          0.984\n",
              "\n",
              "[8 rows x 10 columns]"
            ]
          },
          "metadata": {
            "tags": []
          },
          "execution_count": 879
        }
      ]
    },
    {
      "cell_type": "markdown",
      "metadata": {
        "id": "0CMCObLuPEsc",
        "colab_type": "text"
      },
      "source": [
        "Podemos notar algumas coisas estranhas em acousticness, instrumentalness, liveness e speechiness. Principalmente no fato das distribuições destas variáveis.\n",
        "\n"
      ]
    },
    {
      "cell_type": "code",
      "metadata": {
        "id": "xcU0xHPanP82",
        "colab_type": "code",
        "outputId": "9cd5fbe8-bf1f-42a8-fa1c-68c970b5ad53",
        "colab": {
          "base_uri": "https://localhost:8080/",
          "height": 581
        }
      },
      "source": [
        "plt.figure(figsize=(10,8))\n",
        "cols = ['acousticness', 'instrumentalness', 'liveness', 'speechiness']\n",
        "for i in range(len(cols)):\n",
        "  plt.subplot(2, 2, i+1)\n",
        "  sns.distplot(df[cols[i]])\n",
        "plt.tight_layout()\n",
        "plt.show()"
      ],
      "execution_count": 880,
      "outputs": [
        {
          "output_type": "display_data",
          "data": {
            "image/png": "[encoded data removed]",
            "text/plain": [
              "<Figure size 720x576 with 4 Axes>"
            ]
          },
          "metadata": {
            "tags": []
          }
        }
      ]
    },
    {
      "cell_type": "markdown",
      "metadata": {
        "id": "hhh9puMHWZBr",
        "colab_type": "text"
      },
      "source": [
        "Podemos perceber algumas coisas interessantes, realmente elas tem uma distribuição estranha e mais concentrada no começo dos dados, mas especificamente para intrumentalness quase não existem valores que sejam muito longe de 0. Ou seja, essa coluna está mais atrapalhando do que ajudando, uma vez que são muito poucas as ocorrências de valores fora diferentes de 0, para comparar se isso tem ou não impacto direto com a popularidade da música.\n",
        "\n",
        "Dito isso:"
      ]
    },
    {
      "cell_type": "code",
      "metadata": {
        "id": "nd8GXi_NZJNO",
        "colab_type": "code",
        "colab": {}
      },
      "source": [
        "df.drop('instrumentalness', axis = 1, inplace=True)"
      ],
      "execution_count": 0,
      "outputs": []
    },
    {
      "cell_type": "markdown",
      "metadata": {
        "id": "xPA5lk4ki6wn",
        "colab_type": "text"
      },
      "source": [
        "Certo, tendo em vista a distribuição dessas colunas plotadas, vamos tratar os nossos dados faltantes dessas colunas seguindo a tendência \"deslocada\" desse gráfico e colocar valores faltantes como membros da moda."
      ]
    },
    {
      "cell_type": "code",
      "metadata": {
        "id": "bhgrzGWUjelm",
        "colab_type": "code",
        "colab": {}
      },
      "source": [
        "for column in ['acousticness', 'liveness', 'speechiness']:\n",
        "    df[column].fillna(df[column].mode()[0], inplace=True)"
      ],
      "execution_count": 0,
      "outputs": []
    },
    {
      "cell_type": "markdown",
      "metadata": {
        "id": "Xm2F2vOTo5ip",
        "colab_type": "text"
      },
      "source": [
        "Vamos agora dar uma olhada nas nossas outras variáveis numéricas e ver como podemos tratar os dados faltantes."
      ]
    },
    {
      "cell_type": "code",
      "metadata": {
        "id": "qyNT3UcEpD9a",
        "colab_type": "code",
        "outputId": "c9496dd8-41bc-4bb4-fc2d-0878511afa78",
        "colab": {
          "base_uri": "https://localhost:8080/",
          "height": 581
        }
      },
      "source": [
        "plt.figure(figsize=(10,8))\n",
        "cols = ['song_duration_ms',  'danceability', 'energy', \n",
        "                'loudness', 'audio_valence', 'tempo']\n",
        "for i in range(len(cols)):\n",
        "  plt.subplot(2, 3, i+1)\n",
        "  sns.distplot(df[cols[i]])\n",
        "plt.tight_layout()\n",
        "plt.show()"
      ],
      "execution_count": 883,
      "outputs": [
        {
          "output_type": "display_data",
          "data": {
            "image/png": "[encoded data removed]",
            "text/plain": [
              "<Figure size 720x576 with 6 Axes>"
            ]
          },
          "metadata": {
            "tags": []
          }
        }
      ]
    },
    {
      "cell_type": "markdown",
      "metadata": {
        "id": "DuSSxlPZsqHT",
        "colab_type": "text"
      },
      "source": [
        "Como essas outras variáveis apresentam uma distribuição mais equilibrada dos seus dados, vou distribuir os dados faltantes como membros da média.\n",
        "\n",
        "Como 'tempo' apresenta um comportamento estranho com dois picos, vou deixar para tratá-lo depois de analisar as variáveis categóricas."
      ]
    },
    {
      "cell_type": "code",
      "metadata": {
        "id": "WfE77Z9xs_Qk",
        "colab_type": "code",
        "colab": {}
      },
      "source": [
        "for column in ['song_duration_ms',  'danceability', 'energy', \n",
        "                'loudness'       , 'audio_valence']:\n",
        "    df[column].fillna(df[column].mean(), inplace=True)"
      ],
      "execution_count": 0,
      "outputs": []
    },
    {
      "cell_type": "markdown",
      "metadata": {
        "id": "ifBxYhQwwTmE",
        "colab_type": "text"
      },
      "source": [
        "Agora vamos olhar as nossas variáveis categóricas."
      ]
    },
    {
      "cell_type": "code",
      "metadata": {
        "id": "Dg5-6RrswYRj",
        "colab_type": "code",
        "outputId": "64e33714-e8e9-42f8-8422-33b44c1ac4d7",
        "colab": {
          "base_uri": "https://localhost:8080/",
          "height": 581
        }
      },
      "source": [
        "plt.figure(figsize=(10,8))\n",
        "cols = ['audio_mode', 'time_signature', 'key']\n",
        "for i in range(len(cols)):\n",
        "  plt.subplot(3, 1, i+1)\n",
        "  sns.countplot(df[cols[i]])\n",
        "plt.tight_layout()\n",
        "plt.show()"
      ],
      "execution_count": 885,
      "outputs": [
        {
          "output_type": "display_data",
          "data": {
            "image/png": "[encoded data removed]",
            "text/plain": [
              "<Figure size 720x576 with 3 Axes>"
            ]
          },
          "metadata": {
            "tags": []
          }
        }
      ]
    },
    {
      "cell_type": "markdown",
      "metadata": {
        "id": "8U2fyfoKyyG7",
        "colab_type": "text"
      },
      "source": [
        "Da mesma forma que em 'instrumentalness', a variável time_signature é extremamente deslocada para valores do tipo 4, ou seja, não utilizaremos essa coluna para nossa análise.\n",
        "\n",
        "Dessa forma:"
      ]
    },
    {
      "cell_type": "code",
      "metadata": {
        "id": "SEfNSkIKxGUk",
        "colab_type": "code",
        "colab": {}
      },
      "source": [
        "df.drop('time_signature', axis = 1, inplace=True)"
      ],
      "execution_count": 0,
      "outputs": []
    },
    {
      "cell_type": "markdown",
      "metadata": {
        "id": "MyDe93I8zvco",
        "colab_type": "text"
      },
      "source": [
        "Vamos dar mais uma olhada nos nossos dados, para ver como eles se encontram."
      ]
    },
    {
      "cell_type": "code",
      "metadata": {
        "id": "NCpGRD8luhxj",
        "colab_type": "code",
        "outputId": "6fe6eb00-640f-42cb-8f97-5e7259476016",
        "colab": {
          "base_uri": "https://localhost:8080/",
          "height": 340
        }
      },
      "source": [
        "df.info()"
      ],
      "execution_count": 887,
      "outputs": [
        {
          "output_type": "stream",
          "text": [
            "<class 'pandas.core.frame.DataFrame'>\n",
            "Index: 14930 entries, \"40\" - Live Version 1983 to 피 땀 눈물\n",
            "Data columns (total 12 columns):\n",
            " #   Column            Non-Null Count  Dtype   \n",
            "---  ------            --------------  -----   \n",
            " 0   song_popularity   14929 non-null  category\n",
            " 1   song_duration_ms  14930 non-null  float64 \n",
            " 2   acousticness      14930 non-null  float64 \n",
            " 3   danceability      14930 non-null  float64 \n",
            " 4   energy            14930 non-null  float64 \n",
            " 5   key               14929 non-null  category\n",
            " 6   liveness          14930 non-null  float64 \n",
            " 7   loudness          14930 non-null  float64 \n",
            " 8   audio_mode        14928 non-null  category\n",
            " 9   speechiness       14930 non-null  float64 \n",
            " 10  tempo             14814 non-null  float64 \n",
            " 11  audio_valence     14930 non-null  float64 \n",
            "dtypes: category(3), float64(9)\n",
            "memory usage: 1.8+ MB\n"
          ],
          "name": "stdout"
        }
      ]
    },
    {
      "cell_type": "markdown",
      "metadata": {
        "id": "2RqBdHpmz2O1",
        "colab_type": "text"
      },
      "source": [
        "Ótimo, a maior parte do trabalho está feita.\n",
        "\n",
        "Vamos tratar agora da nossa variável 'tempo', ela apresentava uma comportamento um tanto irregular, então vou só excluir as linhas faltantes, uma vez que nesse caso estaríamos deletando cerca de 120 linhas (~0.7% dos dados [muito mais aceitável])."
      ]
    },
    {
      "cell_type": "code",
      "metadata": {
        "id": "ISEi7WZ4uMry",
        "colab_type": "code",
        "colab": {}
      },
      "source": [
        "df.dropna(subset=['tempo'], inplace=True) #tiro valores NaN de 'tempo'\n",
        "df.dropna(inplace=True) #removo demais linhas com dados faltantes\n",
        "#Acabamos por usar realmente esse comando, mas de uma forma\n",
        "#muito mais consiente do que se tivéssemos usado lá em cima"
      ],
      "execution_count": 0,
      "outputs": []
    },
    {
      "cell_type": "markdown",
      "metadata": {
        "id": "dXT4B5K21fxs",
        "colab_type": "text"
      },
      "source": [
        "Com isso nossos dados agora estão limpos de uma forma eficiente, vamos para o que interessa: as relações entre nossas features e quais características geram uma música com alta popularidade"
      ]
    },
    {
      "cell_type": "markdown",
      "metadata": {
        "id": "tPuMP0Arc4p8",
        "colab_type": "text"
      },
      "source": [
        "# Análise do target"
      ]
    },
    {
      "cell_type": "markdown",
      "metadata": {
        "id": "7jLF6jZchtmk",
        "colab_type": "text"
      },
      "source": [
        "Como eu optei por tratar a coluna target ('song_popularity') como uma variável categórica vamos fazer um processo de clusterização."
      ]
    },
    {
      "cell_type": "markdown",
      "metadata": {
        "id": "kuTsHCmLh8f7",
        "colab_type": "text"
      },
      "source": [
        "Obs.: Clustering é um conjunto de técnicas de agrupamento de dados com base em sua semelhança."
      ]
    },
    {
      "cell_type": "markdown",
      "metadata": {
        "id": "gyCKl_UFiKHA",
        "colab_type": "text"
      },
      "source": [
        "Dessa forma, podemos trabalhar com nossos dados de uma forma mais geral, ao invés de cada popularidade ter uma categoria correnpondente, podemos agrupar um conjunto de popularidades com mesmas características em um cluster."
      ]
    },
    {
      "cell_type": "code",
      "metadata": {
        "id": "WnuE9nvhkNCb",
        "colab_type": "code",
        "colab": {}
      },
      "source": [
        "from sklearn.cluster import KMeans"
      ],
      "execution_count": 0,
      "outputs": []
    },
    {
      "cell_type": "code",
      "metadata": {
        "id": "fYgzuhPIkTwK",
        "colab_type": "code",
        "colab": {}
      },
      "source": [
        "clustering = KMeans(n_clusters=5) #define o número de grupos que eu quero, nesse caso, 5\n",
        "df['song_popularity_cluster'] = clustering.fit_predict(df['song_popularity'].astype(int).values.reshape(-1, 1))\n",
        "df['song_popularity'] = df['song_popularity'].astype(int)"
      ],
      "execution_count": 0,
      "outputs": []
    },
    {
      "cell_type": "markdown",
      "metadata": {
        "id": "-6eOxSzxNYf7",
        "colab_type": "text"
      },
      "source": [
        "Essa primeira parte serve para adicionarmos uma coluna 'song_popularity_cluster' que é nossa classificação já clusterizada, agora vamos analisar umas tabelas, da relação da popularidade com as variáveis numéricas."
      ]
    },
    {
      "cell_type": "markdown",
      "metadata": {
        "id": "C2Ax5D21aXI8",
        "colab_type": "text"
      },
      "source": [
        "**Clusterização:**"
      ]
    },
    {
      "cell_type": "markdown",
      "metadata": {
        "id": "PMNjfiZrmX4M",
        "colab_type": "text"
      },
      "source": [
        "Primeiramente gostaria de mostrar esse gráfico da distribuição da popularidade, pois ele ~é muito lindo~ é bom para visualizarmos a distribuição, com ele conseguimos perceber que ter uma popularidade próxima de 100 é algo melhor, uma vez que menos músicas conseguem ter uma alta popularidade."
      ]
    },
    {
      "cell_type": "markdown",
      "metadata": {
        "id": "S7_yMSFAox1g",
        "colab_type": "text"
      },
      "source": [
        "Isso é mais para não acontecer confusão em relação à outra métrica de músicas, o ranking. Neste geralmente ter um menor número significa uma melhor classificação (famoso top 1 ou top 10 que escutamos)."
      ]
    },
    {
      "cell_type": "code",
      "metadata": {
        "id": "gT01VFw-lVAv",
        "colab_type": "code",
        "colab": {
          "base_uri": "https://localhost:8080/",
          "height": 305
        },
        "outputId": "1e4042fb-f3b1-4917-a12b-ef894db0170a"
      },
      "source": [
        "plt.figure(figsize=(16,5))\n",
        "sns.countplot(x='song_popularity', data=df)\n",
        "plt.xticks(rotation=90, horizontalalignment='right', fontweight='bold', fontsize='small')\n",
        "plt.yticks(fontweight='bold', horizontalalignment='right')\n",
        "plt.tight_layout()\n",
        "plt.show()"
      ],
      "execution_count": 891,
      "outputs": [
        {
          "output_type": "display_data",
          "data": {
            "image/png": "[encoded data removed]",
            "text/plain": [
              "<Figure size 1152x360 with 1 Axes>"
            ]
          },
          "metadata": {
            "tags": []
          }
        }
      ]
    },
    {
      "cell_type": "markdown",
      "metadata": {
        "id": "Hv7zJn-5pZ8k",
        "colab_type": "text"
      },
      "source": [
        "Agora vamos para as tabelas, primeiro vamos ver as relações com as variáveis numéricas e depois com as categóricas."
      ]
    },
    {
      "cell_type": "code",
      "metadata": {
        "id": "j43SvUNoPj1p",
        "colab_type": "code",
        "outputId": "c3ffbdb4-c663-479b-8c82-b3a6d216ee36",
        "colab": {
          "base_uri": "https://localhost:8080/",
          "height": 266
        }
      },
      "source": [
        "df[['song_popularity','song_popularity_cluster']].groupby('song_popularity_cluster').describe()"
      ],
      "execution_count": 892,
      "outputs": [
        {
          "output_type": "execute_result",
          "data": {
            "text/html": [
              "<div>\n",
              "<style scoped>\n",
              "    .dataframe tbody tr th:only-of-type {\n",
              "        vertical-align: middle;\n",
              "    }\n",
              "\n",
              "    .dataframe tbody tr th {\n",
              "        vertical-align: top;\n",
              "    }\n",
              "\n",
              "    .dataframe thead tr th {\n",
              "        text-align: left;\n",
              "    }\n",
              "\n",
              "    .dataframe thead tr:last-of-type th {\n",
              "        text-align: right;\n",
              "    }\n",
              "</style>\n",
              "<table border=\"1\" class=\"dataframe\">\n",
              "  <thead>\n",
              "    <tr>\n",
              "      <th></th>\n",
              "      <th colspan=\"8\" halign=\"left\">song_popularity</th>\n",
              "    </tr>\n",
              "    <tr>\n",
              "      <th></th>\n",
              "      <th>count</th>\n",
              "      <th>mean</th>\n",
              "      <th>std</th>\n",
              "      <th>min</th>\n",
              "      <th>25%</th>\n",
              "      <th>50%</th>\n",
              "      <th>75%</th>\n",
              "      <th>max</th>\n",
              "    </tr>\n",
              "    <tr>\n",
              "      <th>song_popularity_cluster</th>\n",
              "      <th></th>\n",
              "      <th></th>\n",
              "      <th></th>\n",
              "      <th></th>\n",
              "      <th></th>\n",
              "      <th></th>\n",
              "      <th></th>\n",
              "      <th></th>\n",
              "    </tr>\n",
              "  </thead>\n",
              "  <tbody>\n",
              "    <tr>\n",
              "      <th>0</th>\n",
              "      <td>4098.000</td>\n",
              "      <td>45.435</td>\n",
              "      <td>4.527</td>\n",
              "      <td>37.000</td>\n",
              "      <td>42.000</td>\n",
              "      <td>46.000</td>\n",
              "      <td>49.000</td>\n",
              "      <td>52.000</td>\n",
              "    </tr>\n",
              "    <tr>\n",
              "      <th>1</th>\n",
              "      <td>2620.000</td>\n",
              "      <td>74.878</td>\n",
              "      <td>5.985</td>\n",
              "      <td>68.000</td>\n",
              "      <td>70.000</td>\n",
              "      <td>73.000</td>\n",
              "      <td>78.000</td>\n",
              "      <td>100.000</td>\n",
              "    </tr>\n",
              "    <tr>\n",
              "      <th>2</th>\n",
              "      <td>1449.000</td>\n",
              "      <td>7.170</td>\n",
              "      <td>5.682</td>\n",
              "      <td>0.000</td>\n",
              "      <td>2.000</td>\n",
              "      <td>6.000</td>\n",
              "      <td>12.000</td>\n",
              "      <td>17.000</td>\n",
              "    </tr>\n",
              "    <tr>\n",
              "      <th>3</th>\n",
              "      <td>4527.000</td>\n",
              "      <td>59.731</td>\n",
              "      <td>4.265</td>\n",
              "      <td>53.000</td>\n",
              "      <td>56.000</td>\n",
              "      <td>60.000</td>\n",
              "      <td>63.000</td>\n",
              "      <td>67.000</td>\n",
              "    </tr>\n",
              "    <tr>\n",
              "      <th>4</th>\n",
              "      <td>2119.000</td>\n",
              "      <td>28.172</td>\n",
              "      <td>5.426</td>\n",
              "      <td>18.000</td>\n",
              "      <td>24.000</td>\n",
              "      <td>29.000</td>\n",
              "      <td>33.000</td>\n",
              "      <td>36.000</td>\n",
              "    </tr>\n",
              "  </tbody>\n",
              "</table>\n",
              "</div>"
            ],
            "text/plain": [
              "                        song_popularity               ...                      \n",
              "                                  count   mean   std  ...    50%    75%     max\n",
              "song_popularity_cluster                               ...                      \n",
              "0                              4098.000 45.435 4.527  ... 46.000 49.000  52.000\n",
              "1                              2620.000 74.878 5.985  ... 73.000 78.000 100.000\n",
              "2                              1449.000  7.170 5.682  ...  6.000 12.000  17.000\n",
              "3                              4527.000 59.731 4.265  ... 60.000 63.000  67.000\n",
              "4                              2119.000 28.172 5.426  ... 29.000 33.000  36.000\n",
              "\n",
              "[5 rows x 8 columns]"
            ]
          },
          "metadata": {
            "tags": []
          },
          "execution_count": 892
        }
      ]
    },
    {
      "cell_type": "markdown",
      "metadata": {
        "id": "01ZwQINoafWL",
        "colab_type": "text"
      },
      "source": [
        "Essa primeira tabela é justamente para analisarmos onde foi feito esse corte, eu decidi trabalhar com 5 clusters. Segundo a análise de proximidade do KMeans, esses dados foram divididos dessa forma:\n",
        "\n",
        "0.   Popularidade entre: 37 e 52.....(médias)\n",
        "1.   Popularidade entre: 67 e 100...(melhores)\n",
        "2.   Popularidade entre:  0 e 17.......(piores)\n",
        "3.   Popularidade entre: 53 e 67.....(médias-altas)\n",
        "4.   Popularidade entre: 18 e 37.....(médias-baixas)\n"
      ]
    },
    {
      "cell_type": "markdown",
      "metadata": {
        "id": "AlGlFqjlqb2u",
        "colab_type": "text"
      },
      "source": [
        "**Duração:**"
      ]
    },
    {
      "cell_type": "code",
      "metadata": {
        "id": "P3U7q9JYq-3d",
        "colab_type": "code",
        "colab": {
          "base_uri": "https://localhost:8080/",
          "height": 266
        },
        "outputId": "0bedd632-579e-417f-e144-0baaaed484f9"
      },
      "source": [
        "df[['song_duration_ms','song_popularity_cluster']].groupby('song_popularity_cluster').describe()"
      ],
      "execution_count": 893,
      "outputs": [
        {
          "output_type": "execute_result",
          "data": {
            "text/html": [
              "<div>\n",
              "<style scoped>\n",
              "    .dataframe tbody tr th:only-of-type {\n",
              "        vertical-align: middle;\n",
              "    }\n",
              "\n",
              "    .dataframe tbody tr th {\n",
              "        vertical-align: top;\n",
              "    }\n",
              "\n",
              "    .dataframe thead tr th {\n",
              "        text-align: left;\n",
              "    }\n",
              "\n",
              "    .dataframe thead tr:last-of-type th {\n",
              "        text-align: right;\n",
              "    }\n",
              "</style>\n",
              "<table border=\"1\" class=\"dataframe\">\n",
              "  <thead>\n",
              "    <tr>\n",
              "      <th></th>\n",
              "      <th colspan=\"8\" halign=\"left\">song_duration_ms</th>\n",
              "    </tr>\n",
              "    <tr>\n",
              "      <th></th>\n",
              "      <th>count</th>\n",
              "      <th>mean</th>\n",
              "      <th>std</th>\n",
              "      <th>min</th>\n",
              "      <th>25%</th>\n",
              "      <th>50%</th>\n",
              "      <th>75%</th>\n",
              "      <th>max</th>\n",
              "    </tr>\n",
              "    <tr>\n",
              "      <th>song_popularity_cluster</th>\n",
              "      <th></th>\n",
              "      <th></th>\n",
              "      <th></th>\n",
              "      <th></th>\n",
              "      <th></th>\n",
              "      <th></th>\n",
              "      <th></th>\n",
              "      <th></th>\n",
              "    </tr>\n",
              "  </thead>\n",
              "  <tbody>\n",
              "    <tr>\n",
              "      <th>0</th>\n",
              "      <td>4098.000</td>\n",
              "      <td>211752.208</td>\n",
              "      <td>52238.136</td>\n",
              "      <td>54539.000</td>\n",
              "      <td>179561.250</td>\n",
              "      <td>209284.000</td>\n",
              "      <td>239516.250</td>\n",
              "      <td>386026.000</td>\n",
              "    </tr>\n",
              "    <tr>\n",
              "      <th>1</th>\n",
              "      <td>2620.000</td>\n",
              "      <td>219732.798</td>\n",
              "      <td>44681.578</td>\n",
              "      <td>67000.000</td>\n",
              "      <td>191706.500</td>\n",
              "      <td>214852.429</td>\n",
              "      <td>243843.000</td>\n",
              "      <td>386906.000</td>\n",
              "    </tr>\n",
              "    <tr>\n",
              "      <th>2</th>\n",
              "      <td>1449.000</td>\n",
              "      <td>218187.203</td>\n",
              "      <td>50822.465</td>\n",
              "      <td>53066.000</td>\n",
              "      <td>187040.000</td>\n",
              "      <td>213800.000</td>\n",
              "      <td>245195.000</td>\n",
              "      <td>384850.000</td>\n",
              "    </tr>\n",
              "    <tr>\n",
              "      <th>3</th>\n",
              "      <td>4527.000</td>\n",
              "      <td>215479.882</td>\n",
              "      <td>47466.786</td>\n",
              "      <td>55213.000</td>\n",
              "      <td>185605.500</td>\n",
              "      <td>212480.000</td>\n",
              "      <td>242380.000</td>\n",
              "      <td>386373.000</td>\n",
              "    </tr>\n",
              "    <tr>\n",
              "      <th>4</th>\n",
              "      <td>2119.000</td>\n",
              "      <td>211759.185</td>\n",
              "      <td>51509.312</td>\n",
              "      <td>55720.000</td>\n",
              "      <td>177613.000</td>\n",
              "      <td>209440.000</td>\n",
              "      <td>238266.500</td>\n",
              "      <td>386946.000</td>\n",
              "    </tr>\n",
              "  </tbody>\n",
              "</table>\n",
              "</div>"
            ],
            "text/plain": [
              "                        song_duration_ms             ...                      \n",
              "                                   count       mean  ...        75%        max\n",
              "song_popularity_cluster                              ...                      \n",
              "0                               4098.000 211752.208  ... 239516.250 386026.000\n",
              "1                               2620.000 219732.798  ... 243843.000 386906.000\n",
              "2                               1449.000 218187.203  ... 245195.000 384850.000\n",
              "3                               4527.000 215479.882  ... 242380.000 386373.000\n",
              "4                               2119.000 211759.185  ... 238266.500 386946.000\n",
              "\n",
              "[5 rows x 8 columns]"
            ]
          },
          "metadata": {
            "tags": []
          },
          "execution_count": 893
        }
      ]
    },
    {
      "cell_type": "markdown",
      "metadata": {
        "id": "gfDRmGVEsga0",
        "colab_type": "text"
      },
      "source": [
        "Percebemos aqui que a duração não tem muita relação com a popularidade da música, observe que entre as piores (2) e melhores (1) não há uma diferença significativa de tempo para tirarmos alguma conclusão útil."
      ]
    },
    {
      "cell_type": "markdown",
      "metadata": {
        "id": "lS0bQq22tsDV",
        "colab_type": "text"
      },
      "source": [
        "**Acústica:**"
      ]
    },
    {
      "cell_type": "code",
      "metadata": {
        "id": "lg1rrbT_t00v",
        "colab_type": "code",
        "colab": {
          "base_uri": "https://localhost:8080/",
          "height": 266
        },
        "outputId": "6a074e94-2c5c-456c-91d7-b0f1ec2141fb"
      },
      "source": [
        "df[['acousticness','song_popularity_cluster']].groupby('song_popularity_cluster').describe()"
      ],
      "execution_count": 894,
      "outputs": [
        {
          "output_type": "execute_result",
          "data": {
            "text/html": [
              "<div>\n",
              "<style scoped>\n",
              "    .dataframe tbody tr th:only-of-type {\n",
              "        vertical-align: middle;\n",
              "    }\n",
              "\n",
              "    .dataframe tbody tr th {\n",
              "        vertical-align: top;\n",
              "    }\n",
              "\n",
              "    .dataframe thead tr th {\n",
              "        text-align: left;\n",
              "    }\n",
              "\n",
              "    .dataframe thead tr:last-of-type th {\n",
              "        text-align: right;\n",
              "    }\n",
              "</style>\n",
              "<table border=\"1\" class=\"dataframe\">\n",
              "  <thead>\n",
              "    <tr>\n",
              "      <th></th>\n",
              "      <th colspan=\"8\" halign=\"left\">acousticness</th>\n",
              "    </tr>\n",
              "    <tr>\n",
              "      <th></th>\n",
              "      <th>count</th>\n",
              "      <th>mean</th>\n",
              "      <th>std</th>\n",
              "      <th>min</th>\n",
              "      <th>25%</th>\n",
              "      <th>50%</th>\n",
              "      <th>75%</th>\n",
              "      <th>max</th>\n",
              "    </tr>\n",
              "    <tr>\n",
              "      <th>song_popularity_cluster</th>\n",
              "      <th></th>\n",
              "      <th></th>\n",
              "      <th></th>\n",
              "      <th></th>\n",
              "      <th></th>\n",
              "      <th></th>\n",
              "      <th></th>\n",
              "      <th></th>\n",
              "    </tr>\n",
              "  </thead>\n",
              "  <tbody>\n",
              "    <tr>\n",
              "      <th>0</th>\n",
              "      <td>4098.000</td>\n",
              "      <td>0.288</td>\n",
              "      <td>0.304</td>\n",
              "      <td>0.000</td>\n",
              "      <td>0.026</td>\n",
              "      <td>0.159</td>\n",
              "      <td>0.512</td>\n",
              "      <td>0.996</td>\n",
              "    </tr>\n",
              "    <tr>\n",
              "      <th>1</th>\n",
              "      <td>2620.000</td>\n",
              "      <td>0.219</td>\n",
              "      <td>0.254</td>\n",
              "      <td>0.000</td>\n",
              "      <td>0.028</td>\n",
              "      <td>0.114</td>\n",
              "      <td>0.318</td>\n",
              "      <td>0.995</td>\n",
              "    </tr>\n",
              "    <tr>\n",
              "      <th>2</th>\n",
              "      <td>1449.000</td>\n",
              "      <td>0.228</td>\n",
              "      <td>0.287</td>\n",
              "      <td>0.000</td>\n",
              "      <td>0.009</td>\n",
              "      <td>0.083</td>\n",
              "      <td>0.372</td>\n",
              "      <td>0.996</td>\n",
              "    </tr>\n",
              "    <tr>\n",
              "      <th>3</th>\n",
              "      <td>4527.000</td>\n",
              "      <td>0.277</td>\n",
              "      <td>0.307</td>\n",
              "      <td>0.000</td>\n",
              "      <td>0.022</td>\n",
              "      <td>0.142</td>\n",
              "      <td>0.463</td>\n",
              "      <td>0.996</td>\n",
              "    </tr>\n",
              "    <tr>\n",
              "      <th>4</th>\n",
              "      <td>2119.000</td>\n",
              "      <td>0.310</td>\n",
              "      <td>0.313</td>\n",
              "      <td>0.000</td>\n",
              "      <td>0.030</td>\n",
              "      <td>0.191</td>\n",
              "      <td>0.571</td>\n",
              "      <td>0.995</td>\n",
              "    </tr>\n",
              "  </tbody>\n",
              "</table>\n",
              "</div>"
            ],
            "text/plain": [
              "                        acousticness                                          \n",
              "                               count  mean   std   min   25%   50%   75%   max\n",
              "song_popularity_cluster                                                       \n",
              "0                           4098.000 0.288 0.304 0.000 0.026 0.159 0.512 0.996\n",
              "1                           2620.000 0.219 0.254 0.000 0.028 0.114 0.318 0.995\n",
              "2                           1449.000 0.228 0.287 0.000 0.009 0.083 0.372 0.996\n",
              "3                           4527.000 0.277 0.307 0.000 0.022 0.142 0.463 0.996\n",
              "4                           2119.000 0.310 0.313 0.000 0.030 0.191 0.571 0.995"
            ]
          },
          "metadata": {
            "tags": []
          },
          "execution_count": 894
        }
      ]
    },
    {
      "cell_type": "markdown",
      "metadata": {
        "id": "Miou67dQvLhQ",
        "colab_type": "text"
      },
      "source": [
        "A acústica também não parece influenciar muito no nosso problema, podemos perceber que as músicas gostam de estar entre uma faixa de 0.2 e 0.3 de acústica (olhando a média de todas), mas se olharmos o minínimo e máximo, todas variam de 0 até algo muito próximo de 1. De qualquer forma, as melhores apresentam uma acústica um pouco menor que as outras na média."
      ]
    },
    {
      "cell_type": "markdown",
      "metadata": {
        "id": "efM3gD6PwEGi",
        "colab_type": "text"
      },
      "source": [
        "**Danceabilidade:**"
      ]
    },
    {
      "cell_type": "code",
      "metadata": {
        "id": "oUuduXKlvvYX",
        "colab_type": "code",
        "colab": {
          "base_uri": "https://localhost:8080/",
          "height": 266
        },
        "outputId": "811646df-b06c-4fca-bc4a-95556d4b3181"
      },
      "source": [
        "df[['danceability','song_popularity_cluster']].groupby('song_popularity_cluster').describe()"
      ],
      "execution_count": 895,
      "outputs": [
        {
          "output_type": "execute_result",
          "data": {
            "text/html": [
              "<div>\n",
              "<style scoped>\n",
              "    .dataframe tbody tr th:only-of-type {\n",
              "        vertical-align: middle;\n",
              "    }\n",
              "\n",
              "    .dataframe tbody tr th {\n",
              "        vertical-align: top;\n",
              "    }\n",
              "\n",
              "    .dataframe thead tr th {\n",
              "        text-align: left;\n",
              "    }\n",
              "\n",
              "    .dataframe thead tr:last-of-type th {\n",
              "        text-align: right;\n",
              "    }\n",
              "</style>\n",
              "<table border=\"1\" class=\"dataframe\">\n",
              "  <thead>\n",
              "    <tr>\n",
              "      <th></th>\n",
              "      <th colspan=\"8\" halign=\"left\">danceability</th>\n",
              "    </tr>\n",
              "    <tr>\n",
              "      <th></th>\n",
              "      <th>count</th>\n",
              "      <th>mean</th>\n",
              "      <th>std</th>\n",
              "      <th>min</th>\n",
              "      <th>25%</th>\n",
              "      <th>50%</th>\n",
              "      <th>75%</th>\n",
              "      <th>max</th>\n",
              "    </tr>\n",
              "    <tr>\n",
              "      <th>song_popularity_cluster</th>\n",
              "      <th></th>\n",
              "      <th></th>\n",
              "      <th></th>\n",
              "      <th></th>\n",
              "      <th></th>\n",
              "      <th></th>\n",
              "      <th></th>\n",
              "      <th></th>\n",
              "    </tr>\n",
              "  </thead>\n",
              "  <tbody>\n",
              "    <tr>\n",
              "      <th>0</th>\n",
              "      <td>4098.000</td>\n",
              "      <td>0.629</td>\n",
              "      <td>0.155</td>\n",
              "      <td>0.199</td>\n",
              "      <td>0.529</td>\n",
              "      <td>0.639</td>\n",
              "      <td>0.741</td>\n",
              "      <td>0.981</td>\n",
              "    </tr>\n",
              "    <tr>\n",
              "      <th>1</th>\n",
              "      <td>2620.000</td>\n",
              "      <td>0.649</td>\n",
              "      <td>0.147</td>\n",
              "      <td>0.202</td>\n",
              "      <td>0.555</td>\n",
              "      <td>0.658</td>\n",
              "      <td>0.754</td>\n",
              "      <td>0.978</td>\n",
              "    </tr>\n",
              "    <tr>\n",
              "      <th>2</th>\n",
              "      <td>1449.000</td>\n",
              "      <td>0.611</td>\n",
              "      <td>0.156</td>\n",
              "      <td>0.208</td>\n",
              "      <td>0.507</td>\n",
              "      <td>0.616</td>\n",
              "      <td>0.723</td>\n",
              "      <td>0.970</td>\n",
              "    </tr>\n",
              "    <tr>\n",
              "      <th>3</th>\n",
              "      <td>4527.000</td>\n",
              "      <td>0.623</td>\n",
              "      <td>0.152</td>\n",
              "      <td>0.199</td>\n",
              "      <td>0.520</td>\n",
              "      <td>0.628</td>\n",
              "      <td>0.736</td>\n",
              "      <td>0.980</td>\n",
              "    </tr>\n",
              "    <tr>\n",
              "      <th>4</th>\n",
              "      <td>2119.000</td>\n",
              "      <td>0.628</td>\n",
              "      <td>0.150</td>\n",
              "      <td>0.198</td>\n",
              "      <td>0.532</td>\n",
              "      <td>0.634</td>\n",
              "      <td>0.740</td>\n",
              "      <td>0.987</td>\n",
              "    </tr>\n",
              "  </tbody>\n",
              "</table>\n",
              "</div>"
            ],
            "text/plain": [
              "                        danceability                                          \n",
              "                               count  mean   std   min   25%   50%   75%   max\n",
              "song_popularity_cluster                                                       \n",
              "0                           4098.000 0.629 0.155 0.199 0.529 0.639 0.741 0.981\n",
              "1                           2620.000 0.649 0.147 0.202 0.555 0.658 0.754 0.978\n",
              "2                           1449.000 0.611 0.156 0.208 0.507 0.616 0.723 0.970\n",
              "3                           4527.000 0.623 0.152 0.199 0.520 0.628 0.736 0.980\n",
              "4                           2119.000 0.628 0.150 0.198 0.532 0.634 0.740 0.987"
            ]
          },
          "metadata": {
            "tags": []
          },
          "execution_count": 895
        }
      ]
    },
    {
      "cell_type": "markdown",
      "metadata": {
        "id": "QQdQvwKWwBrr",
        "colab_type": "text"
      },
      "source": [
        "Eu confesso que fiquei um pouco surpreso, achei que danceabilidade fosse algo que tivesse uma influência maior sobre o quanto uma música é ou não popular, mas pelo que vemos isso não é algo muito constante, até aparenta existir uma certa crescente, mas é algo muito leve para podermos deter como algo impactante. "
      ]
    },
    {
      "cell_type": "markdown",
      "metadata": {
        "id": "MPRQ43GfwhAU",
        "colab_type": "text"
      },
      "source": [
        "O máximo que podemos concluir é que músicas mais populares tendem a ter uma danceabilidade levemente maior, mas isso não parece ser um fator marcante, pois as médias-altas (3) tem um valor médio abaixo que a das médias-baixas (4), o que quebra essa linha de pensamento. De qualquer forma, as melhores apresentam danceabilidade levemente maiores que as outras na média."
      ]
    },
    {
      "cell_type": "markdown",
      "metadata": {
        "id": "lfvghdVyxEV0",
        "colab_type": "text"
      },
      "source": [
        "**Energia:**"
      ]
    },
    {
      "cell_type": "code",
      "metadata": {
        "id": "8v2bEwucxG6o",
        "colab_type": "code",
        "colab": {
          "base_uri": "https://localhost:8080/",
          "height": 266
        },
        "outputId": "3d990724-fb10-4c9e-f559-4e18c5a69afb"
      },
      "source": [
        "df[['energy','song_popularity_cluster']].groupby('song_popularity_cluster').describe()"
      ],
      "execution_count": 896,
      "outputs": [
        {
          "output_type": "execute_result",
          "data": {
            "text/html": [
              "<div>\n",
              "<style scoped>\n",
              "    .dataframe tbody tr th:only-of-type {\n",
              "        vertical-align: middle;\n",
              "    }\n",
              "\n",
              "    .dataframe tbody tr th {\n",
              "        vertical-align: top;\n",
              "    }\n",
              "\n",
              "    .dataframe thead tr th {\n",
              "        text-align: left;\n",
              "    }\n",
              "\n",
              "    .dataframe thead tr:last-of-type th {\n",
              "        text-align: right;\n",
              "    }\n",
              "</style>\n",
              "<table border=\"1\" class=\"dataframe\">\n",
              "  <thead>\n",
              "    <tr>\n",
              "      <th></th>\n",
              "      <th colspan=\"8\" halign=\"left\">energy</th>\n",
              "    </tr>\n",
              "    <tr>\n",
              "      <th></th>\n",
              "      <th>count</th>\n",
              "      <th>mean</th>\n",
              "      <th>std</th>\n",
              "      <th>min</th>\n",
              "      <th>25%</th>\n",
              "      <th>50%</th>\n",
              "      <th>75%</th>\n",
              "      <th>max</th>\n",
              "    </tr>\n",
              "    <tr>\n",
              "      <th>song_popularity_cluster</th>\n",
              "      <th></th>\n",
              "      <th></th>\n",
              "      <th></th>\n",
              "      <th></th>\n",
              "      <th></th>\n",
              "      <th></th>\n",
              "      <th></th>\n",
              "      <th></th>\n",
              "    </tr>\n",
              "  </thead>\n",
              "  <tbody>\n",
              "    <tr>\n",
              "      <th>0</th>\n",
              "      <td>4098.000</td>\n",
              "      <td>0.633</td>\n",
              "      <td>0.221</td>\n",
              "      <td>0.041</td>\n",
              "      <td>0.485</td>\n",
              "      <td>0.654</td>\n",
              "      <td>0.811</td>\n",
              "      <td>0.996</td>\n",
              "    </tr>\n",
              "    <tr>\n",
              "      <th>1</th>\n",
              "      <td>2620.000</td>\n",
              "      <td>0.659</td>\n",
              "      <td>0.190</td>\n",
              "      <td>0.043</td>\n",
              "      <td>0.538</td>\n",
              "      <td>0.683</td>\n",
              "      <td>0.807</td>\n",
              "      <td>0.997</td>\n",
              "    </tr>\n",
              "    <tr>\n",
              "      <th>2</th>\n",
              "      <td>1449.000</td>\n",
              "      <td>0.679</td>\n",
              "      <td>0.210</td>\n",
              "      <td>0.067</td>\n",
              "      <td>0.534</td>\n",
              "      <td>0.711</td>\n",
              "      <td>0.851</td>\n",
              "      <td>0.996</td>\n",
              "    </tr>\n",
              "    <tr>\n",
              "      <th>3</th>\n",
              "      <td>4527.000</td>\n",
              "      <td>0.643</td>\n",
              "      <td>0.220</td>\n",
              "      <td>0.041</td>\n",
              "      <td>0.501</td>\n",
              "      <td>0.673</td>\n",
              "      <td>0.820</td>\n",
              "      <td>0.997</td>\n",
              "    </tr>\n",
              "    <tr>\n",
              "      <th>4</th>\n",
              "      <td>2119.000</td>\n",
              "      <td>0.634</td>\n",
              "      <td>0.216</td>\n",
              "      <td>0.043</td>\n",
              "      <td>0.479</td>\n",
              "      <td>0.661</td>\n",
              "      <td>0.810</td>\n",
              "      <td>0.999</td>\n",
              "    </tr>\n",
              "  </tbody>\n",
              "</table>\n",
              "</div>"
            ],
            "text/plain": [
              "                          energy                                          \n",
              "                           count  mean   std   min   25%   50%   75%   max\n",
              "song_popularity_cluster                                                   \n",
              "0                       4098.000 0.633 0.221 0.041 0.485 0.654 0.811 0.996\n",
              "1                       2620.000 0.659 0.190 0.043 0.538 0.683 0.807 0.997\n",
              "2                       1449.000 0.679 0.210 0.067 0.534 0.711 0.851 0.996\n",
              "3                       4527.000 0.643 0.220 0.041 0.501 0.673 0.820 0.997\n",
              "4                       2119.000 0.634 0.216 0.043 0.479 0.661 0.810 0.999"
            ]
          },
          "metadata": {
            "tags": []
          },
          "execution_count": 896
        }
      ]
    },
    {
      "cell_type": "markdown",
      "metadata": {
        "id": "eOQ5iEWr3YVB",
        "colab_type": "text"
      },
      "source": [
        "Uma linha de pensamento de que músicas mais populares também são mais energéticas até que começa a nascer quando, vemos as melhores no topo tendo uma apresentação decrescente até chegar nas piores. De qualquer forma, as piores apresentam um valor de energia mais alto na média."
      ]
    },
    {
      "cell_type": "markdown",
      "metadata": {
        "id": "KKcAymm84CpE",
        "colab_type": "text"
      },
      "source": [
        "**Fator ao vivo:**"
      ]
    },
    {
      "cell_type": "code",
      "metadata": {
        "id": "zwouZL2l4KRk",
        "colab_type": "code",
        "colab": {
          "base_uri": "https://localhost:8080/",
          "height": 266
        },
        "outputId": "87edd087-ffa0-4dbc-fbcb-d4cf0198268a"
      },
      "source": [
        "df[['liveness','song_popularity_cluster']].groupby('song_popularity_cluster').describe()"
      ],
      "execution_count": 899,
      "outputs": [
        {
          "output_type": "execute_result",
          "data": {
            "text/html": [
              "<div>\n",
              "<style scoped>\n",
              "    .dataframe tbody tr th:only-of-type {\n",
              "        vertical-align: middle;\n",
              "    }\n",
              "\n",
              "    .dataframe tbody tr th {\n",
              "        vertical-align: top;\n",
              "    }\n",
              "\n",
              "    .dataframe thead tr th {\n",
              "        text-align: left;\n",
              "    }\n",
              "\n",
              "    .dataframe thead tr:last-of-type th {\n",
              "        text-align: right;\n",
              "    }\n",
              "</style>\n",
              "<table border=\"1\" class=\"dataframe\">\n",
              "  <thead>\n",
              "    <tr>\n",
              "      <th></th>\n",
              "      <th colspan=\"8\" halign=\"left\">liveness</th>\n",
              "    </tr>\n",
              "    <tr>\n",
              "      <th></th>\n",
              "      <th>count</th>\n",
              "      <th>mean</th>\n",
              "      <th>std</th>\n",
              "      <th>min</th>\n",
              "      <th>25%</th>\n",
              "      <th>50%</th>\n",
              "      <th>75%</th>\n",
              "      <th>max</th>\n",
              "    </tr>\n",
              "    <tr>\n",
              "      <th>song_popularity_cluster</th>\n",
              "      <th></th>\n",
              "      <th></th>\n",
              "      <th></th>\n",
              "      <th></th>\n",
              "      <th></th>\n",
              "      <th></th>\n",
              "      <th></th>\n",
              "      <th></th>\n",
              "    </tr>\n",
              "  </thead>\n",
              "  <tbody>\n",
              "    <tr>\n",
              "      <th>0</th>\n",
              "      <td>4098.000</td>\n",
              "      <td>0.164</td>\n",
              "      <td>0.108</td>\n",
              "      <td>0.015</td>\n",
              "      <td>0.094</td>\n",
              "      <td>0.117</td>\n",
              "      <td>0.205</td>\n",
              "      <td>0.572</td>\n",
              "    </tr>\n",
              "    <tr>\n",
              "      <th>1</th>\n",
              "      <td>2620.000</td>\n",
              "      <td>0.156</td>\n",
              "      <td>0.102</td>\n",
              "      <td>0.021</td>\n",
              "      <td>0.091</td>\n",
              "      <td>0.115</td>\n",
              "      <td>0.189</td>\n",
              "      <td>0.571</td>\n",
              "    </tr>\n",
              "    <tr>\n",
              "      <th>2</th>\n",
              "      <td>1449.000</td>\n",
              "      <td>0.165</td>\n",
              "      <td>0.107</td>\n",
              "      <td>0.021</td>\n",
              "      <td>0.093</td>\n",
              "      <td>0.119</td>\n",
              "      <td>0.216</td>\n",
              "      <td>0.569</td>\n",
              "    </tr>\n",
              "    <tr>\n",
              "      <th>3</th>\n",
              "      <td>4527.000</td>\n",
              "      <td>0.156</td>\n",
              "      <td>0.102</td>\n",
              "      <td>0.020</td>\n",
              "      <td>0.093</td>\n",
              "      <td>0.114</td>\n",
              "      <td>0.190</td>\n",
              "      <td>0.572</td>\n",
              "    </tr>\n",
              "    <tr>\n",
              "      <th>4</th>\n",
              "      <td>2119.000</td>\n",
              "      <td>0.164</td>\n",
              "      <td>0.102</td>\n",
              "      <td>0.011</td>\n",
              "      <td>0.095</td>\n",
              "      <td>0.122</td>\n",
              "      <td>0.214</td>\n",
              "      <td>0.568</td>\n",
              "    </tr>\n",
              "  </tbody>\n",
              "</table>\n",
              "</div>"
            ],
            "text/plain": [
              "                        liveness                                          \n",
              "                           count  mean   std   min   25%   50%   75%   max\n",
              "song_popularity_cluster                                                   \n",
              "0                       4098.000 0.164 0.108 0.015 0.094 0.117 0.205 0.572\n",
              "1                       2620.000 0.156 0.102 0.021 0.091 0.115 0.189 0.571\n",
              "2                       1449.000 0.165 0.107 0.021 0.093 0.119 0.216 0.569\n",
              "3                       4527.000 0.156 0.102 0.020 0.093 0.114 0.190 0.572\n",
              "4                       2119.000 0.164 0.102 0.011 0.095 0.122 0.214 0.568"
            ]
          },
          "metadata": {
            "tags": []
          },
          "execution_count": 899
        }
      ]
    },
    {
      "cell_type": "markdown",
      "metadata": {
        "id": "kV8qALLZ4fcT",
        "colab_type": "text"
      },
      "source": [
        "Mesmo que o fator ao vivo não seja algo muito impactante para nosso target, podemos ver um padrão interessante, a maioria das músicas converge quanto a lançar músicas que não tem uma plateia ou algo do tipo, o que de fato é esperado. E podemos checar isso com os valores máximos sendo ainda menores que 0.6 para qualquer caso."
      ]
    },
    {
      "cell_type": "markdown",
      "metadata": {
        "id": "cR-U5D9v7ozT",
        "colab_type": "text"
      },
      "source": [
        "Interessante notar que as melhores músicas (1 e 3) ficam na faixa de 0.156, enquanto as piores (0, 2 e 4) tendem a ficar na faixa de 0.164 o que é curioso, pois mesmo existindo uma preferência geral por faixas gravadas sem uma platéia, as músicas com piores popularidades tendem a ter uma tolerância a mais por músicas gravadas com plateia, que talvez agrave sua popularidade."
      ]
    },
    {
      "cell_type": "markdown",
      "metadata": {
        "id": "uQHY4st78opl",
        "colab_type": "text"
      },
      "source": [
        "**Sonoridade:**"
      ]
    },
    {
      "cell_type": "code",
      "metadata": {
        "id": "7QXv_7s04-Oe",
        "colab_type": "code",
        "colab": {
          "base_uri": "https://localhost:8080/",
          "height": 266
        },
        "outputId": "41848dbb-afeb-4f18-ab0b-dcc1bd6b73a2"
      },
      "source": [
        "df[['loudness','song_popularity_cluster']].groupby('song_popularity_cluster').describe()"
      ],
      "execution_count": 900,
      "outputs": [
        {
          "output_type": "execute_result",
          "data": {
            "text/html": [
              "<div>\n",
              "<style scoped>\n",
              "    .dataframe tbody tr th:only-of-type {\n",
              "        vertical-align: middle;\n",
              "    }\n",
              "\n",
              "    .dataframe tbody tr th {\n",
              "        vertical-align: top;\n",
              "    }\n",
              "\n",
              "    .dataframe thead tr th {\n",
              "        text-align: left;\n",
              "    }\n",
              "\n",
              "    .dataframe thead tr:last-of-type th {\n",
              "        text-align: right;\n",
              "    }\n",
              "</style>\n",
              "<table border=\"1\" class=\"dataframe\">\n",
              "  <thead>\n",
              "    <tr>\n",
              "      <th></th>\n",
              "      <th colspan=\"8\" halign=\"left\">loudness</th>\n",
              "    </tr>\n",
              "    <tr>\n",
              "      <th></th>\n",
              "      <th>count</th>\n",
              "      <th>mean</th>\n",
              "      <th>std</th>\n",
              "      <th>min</th>\n",
              "      <th>25%</th>\n",
              "      <th>50%</th>\n",
              "      <th>75%</th>\n",
              "      <th>max</th>\n",
              "    </tr>\n",
              "    <tr>\n",
              "      <th>song_popularity_cluster</th>\n",
              "      <th></th>\n",
              "      <th></th>\n",
              "      <th></th>\n",
              "      <th></th>\n",
              "      <th></th>\n",
              "      <th></th>\n",
              "      <th></th>\n",
              "      <th></th>\n",
              "    </tr>\n",
              "  </thead>\n",
              "  <tbody>\n",
              "    <tr>\n",
              "      <th>0</th>\n",
              "      <td>4098.000</td>\n",
              "      <td>-7.652</td>\n",
              "      <td>3.296</td>\n",
              "      <td>-18.478</td>\n",
              "      <td>-9.557</td>\n",
              "      <td>-7.086</td>\n",
              "      <td>-5.228</td>\n",
              "      <td>-0.790</td>\n",
              "    </tr>\n",
              "    <tr>\n",
              "      <th>1</th>\n",
              "      <td>2620.000</td>\n",
              "      <td>-6.558</td>\n",
              "      <td>2.736</td>\n",
              "      <td>-18.515</td>\n",
              "      <td>-7.913</td>\n",
              "      <td>-6.013</td>\n",
              "      <td>-4.640</td>\n",
              "      <td>-0.739</td>\n",
              "    </tr>\n",
              "    <tr>\n",
              "      <th>2</th>\n",
              "      <td>1449.000</td>\n",
              "      <td>-7.150</td>\n",
              "      <td>3.111</td>\n",
              "      <td>-18.354</td>\n",
              "      <td>-8.843</td>\n",
              "      <td>-6.698</td>\n",
              "      <td>-4.930</td>\n",
              "      <td>-0.757</td>\n",
              "    </tr>\n",
              "    <tr>\n",
              "      <th>3</th>\n",
              "      <td>4527.000</td>\n",
              "      <td>-7.257</td>\n",
              "      <td>3.170</td>\n",
              "      <td>-18.504</td>\n",
              "      <td>-8.952</td>\n",
              "      <td>-6.719</td>\n",
              "      <td>-4.970</td>\n",
              "      <td>-0.257</td>\n",
              "    </tr>\n",
              "    <tr>\n",
              "      <th>4</th>\n",
              "      <td>2119.000</td>\n",
              "      <td>-7.867</td>\n",
              "      <td>3.323</td>\n",
              "      <td>-18.512</td>\n",
              "      <td>-9.974</td>\n",
              "      <td>-7.319</td>\n",
              "      <td>-5.416</td>\n",
              "      <td>-0.398</td>\n",
              "    </tr>\n",
              "  </tbody>\n",
              "</table>\n",
              "</div>"
            ],
            "text/plain": [
              "                        loudness               ...                     \n",
              "                           count   mean   std  ...    50%    75%    max\n",
              "song_popularity_cluster                        ...                     \n",
              "0                       4098.000 -7.652 3.296  ... -7.086 -5.228 -0.790\n",
              "1                       2620.000 -6.558 2.736  ... -6.013 -4.640 -0.739\n",
              "2                       1449.000 -7.150 3.111  ... -6.698 -4.930 -0.757\n",
              "3                       4527.000 -7.257 3.170  ... -6.719 -4.970 -0.257\n",
              "4                       2119.000 -7.867 3.323  ... -7.319 -5.416 -0.398\n",
              "\n",
              "[5 rows x 8 columns]"
            ]
          },
          "metadata": {
            "tags": []
          },
          "execution_count": 900
        }
      ]
    },
    {
      "cell_type": "markdown",
      "metadata": {
        "id": "qW4IA9_Q8S23",
        "colab_type": "text"
      },
      "source": [
        "Mesmo não podendo obervar nenhuma tendência ou relação clara entre popularidade e sonoridade, percebemos que as mais populares apresentam músicas levemente mais altas, isso por conta no salto da média e também pelo desvio padrão significamente menor que o das outras, o que indica maior concentração em torno da média."
      ]
    },
    {
      "cell_type": "markdown",
      "metadata": {
        "id": "tydNsbtW9DXd",
        "colab_type": "text"
      },
      "source": [
        "**Discurso:**"
      ]
    },
    {
      "cell_type": "code",
      "metadata": {
        "id": "BEDjVXgp9KRC",
        "colab_type": "code",
        "colab": {
          "base_uri": "https://localhost:8080/",
          "height": 266
        },
        "outputId": "21c80d29-a024-4679-e430-75b16c27bc65"
      },
      "source": [
        "df[['speechiness','song_popularity_cluster']].groupby('song_popularity_cluster').describe()"
      ],
      "execution_count": 901,
      "outputs": [
        {
          "output_type": "execute_result",
          "data": {
            "text/html": [
              "<div>\n",
              "<style scoped>\n",
              "    .dataframe tbody tr th:only-of-type {\n",
              "        vertical-align: middle;\n",
              "    }\n",
              "\n",
              "    .dataframe tbody tr th {\n",
              "        vertical-align: top;\n",
              "    }\n",
              "\n",
              "    .dataframe thead tr th {\n",
              "        text-align: left;\n",
              "    }\n",
              "\n",
              "    .dataframe thead tr:last-of-type th {\n",
              "        text-align: right;\n",
              "    }\n",
              "</style>\n",
              "<table border=\"1\" class=\"dataframe\">\n",
              "  <thead>\n",
              "    <tr>\n",
              "      <th></th>\n",
              "      <th colspan=\"8\" halign=\"left\">speechiness</th>\n",
              "    </tr>\n",
              "    <tr>\n",
              "      <th></th>\n",
              "      <th>count</th>\n",
              "      <th>mean</th>\n",
              "      <th>std</th>\n",
              "      <th>min</th>\n",
              "      <th>25%</th>\n",
              "      <th>50%</th>\n",
              "      <th>75%</th>\n",
              "      <th>max</th>\n",
              "    </tr>\n",
              "    <tr>\n",
              "      <th>song_popularity_cluster</th>\n",
              "      <th></th>\n",
              "      <th></th>\n",
              "      <th></th>\n",
              "      <th></th>\n",
              "      <th></th>\n",
              "      <th></th>\n",
              "      <th></th>\n",
              "      <th></th>\n",
              "    </tr>\n",
              "  </thead>\n",
              "  <tbody>\n",
              "    <tr>\n",
              "      <th>0</th>\n",
              "      <td>4098.000</td>\n",
              "      <td>0.087</td>\n",
              "      <td>0.079</td>\n",
              "      <td>0.023</td>\n",
              "      <td>0.036</td>\n",
              "      <td>0.052</td>\n",
              "      <td>0.102</td>\n",
              "      <td>0.377</td>\n",
              "    </tr>\n",
              "    <tr>\n",
              "      <th>1</th>\n",
              "      <td>2620.000</td>\n",
              "      <td>0.091</td>\n",
              "      <td>0.082</td>\n",
              "      <td>0.022</td>\n",
              "      <td>0.037</td>\n",
              "      <td>0.054</td>\n",
              "      <td>0.111</td>\n",
              "      <td>0.378</td>\n",
              "    </tr>\n",
              "    <tr>\n",
              "      <th>2</th>\n",
              "      <td>1449.000</td>\n",
              "      <td>0.085</td>\n",
              "      <td>0.077</td>\n",
              "      <td>0.024</td>\n",
              "      <td>0.036</td>\n",
              "      <td>0.052</td>\n",
              "      <td>0.097</td>\n",
              "      <td>0.378</td>\n",
              "    </tr>\n",
              "    <tr>\n",
              "      <th>3</th>\n",
              "      <td>4527.000</td>\n",
              "      <td>0.083</td>\n",
              "      <td>0.076</td>\n",
              "      <td>0.023</td>\n",
              "      <td>0.035</td>\n",
              "      <td>0.049</td>\n",
              "      <td>0.091</td>\n",
              "      <td>0.378</td>\n",
              "    </tr>\n",
              "    <tr>\n",
              "      <th>4</th>\n",
              "      <td>2119.000</td>\n",
              "      <td>0.087</td>\n",
              "      <td>0.081</td>\n",
              "      <td>0.023</td>\n",
              "      <td>0.035</td>\n",
              "      <td>0.051</td>\n",
              "      <td>0.101</td>\n",
              "      <td>0.375</td>\n",
              "    </tr>\n",
              "  </tbody>\n",
              "</table>\n",
              "</div>"
            ],
            "text/plain": [
              "                        speechiness                                          \n",
              "                              count  mean   std   min   25%   50%   75%   max\n",
              "song_popularity_cluster                                                      \n",
              "0                          4098.000 0.087 0.079 0.023 0.036 0.052 0.102 0.377\n",
              "1                          2620.000 0.091 0.082 0.022 0.037 0.054 0.111 0.378\n",
              "2                          1449.000 0.085 0.077 0.024 0.036 0.052 0.097 0.378\n",
              "3                          4527.000 0.083 0.076 0.023 0.035 0.049 0.091 0.378\n",
              "4                          2119.000 0.087 0.081 0.023 0.035 0.051 0.101 0.375"
            ]
          },
          "metadata": {
            "tags": []
          },
          "execution_count": 901
        }
      ]
    },
    {
      "cell_type": "markdown",
      "metadata": {
        "id": "CkZCIIad9d6L",
        "colab_type": "text"
      },
      "source": [
        "Como o esperado nn existe muita variação nessa métrica, pois estamos trabalhando com músicas e não muito com discursos ou algo do gênero."
      ]
    },
    {
      "cell_type": "markdown",
      "metadata": {
        "id": "xcjkP54w9oLi",
        "colab_type": "text"
      },
      "source": [
        "**Ritmo:**"
      ]
    },
    {
      "cell_type": "code",
      "metadata": {
        "id": "EvOI1fgS9u1y",
        "colab_type": "code",
        "colab": {
          "base_uri": "https://localhost:8080/",
          "height": 266
        },
        "outputId": "503c651e-4013-48f2-ddc4-51b8e9f2be8c"
      },
      "source": [
        "df[['tempo','song_popularity_cluster']].groupby('song_popularity_cluster').describe()"
      ],
      "execution_count": 902,
      "outputs": [
        {
          "output_type": "execute_result",
          "data": {
            "text/html": [
              "<div>\n",
              "<style scoped>\n",
              "    .dataframe tbody tr th:only-of-type {\n",
              "        vertical-align: middle;\n",
              "    }\n",
              "\n",
              "    .dataframe tbody tr th {\n",
              "        vertical-align: top;\n",
              "    }\n",
              "\n",
              "    .dataframe thead tr th {\n",
              "        text-align: left;\n",
              "    }\n",
              "\n",
              "    .dataframe thead tr:last-of-type th {\n",
              "        text-align: right;\n",
              "    }\n",
              "</style>\n",
              "<table border=\"1\" class=\"dataframe\">\n",
              "  <thead>\n",
              "    <tr>\n",
              "      <th></th>\n",
              "      <th colspan=\"8\" halign=\"left\">tempo</th>\n",
              "    </tr>\n",
              "    <tr>\n",
              "      <th></th>\n",
              "      <th>count</th>\n",
              "      <th>mean</th>\n",
              "      <th>std</th>\n",
              "      <th>min</th>\n",
              "      <th>25%</th>\n",
              "      <th>50%</th>\n",
              "      <th>75%</th>\n",
              "      <th>max</th>\n",
              "    </tr>\n",
              "    <tr>\n",
              "      <th>song_popularity_cluster</th>\n",
              "      <th></th>\n",
              "      <th></th>\n",
              "      <th></th>\n",
              "      <th></th>\n",
              "      <th></th>\n",
              "      <th></th>\n",
              "      <th></th>\n",
              "      <th></th>\n",
              "    </tr>\n",
              "  </thead>\n",
              "  <tbody>\n",
              "    <tr>\n",
              "      <th>0</th>\n",
              "      <td>4098.000</td>\n",
              "      <td>120.437</td>\n",
              "      <td>28.775</td>\n",
              "      <td>47.953</td>\n",
              "      <td>97.058</td>\n",
              "      <td>119.997</td>\n",
              "      <td>139.928</td>\n",
              "      <td>199.402</td>\n",
              "    </tr>\n",
              "    <tr>\n",
              "      <th>1</th>\n",
              "      <td>2620.000</td>\n",
              "      <td>120.127</td>\n",
              "      <td>27.638</td>\n",
              "      <td>57.178</td>\n",
              "      <td>98.072</td>\n",
              "      <td>118.941</td>\n",
              "      <td>138.193</td>\n",
              "      <td>199.373</td>\n",
              "    </tr>\n",
              "    <tr>\n",
              "      <th>2</th>\n",
              "      <td>1449.000</td>\n",
              "      <td>122.454</td>\n",
              "      <td>27.702</td>\n",
              "      <td>52.181</td>\n",
              "      <td>101.015</td>\n",
              "      <td>122.311</td>\n",
              "      <td>140.024</td>\n",
              "      <td>198.870</td>\n",
              "    </tr>\n",
              "    <tr>\n",
              "      <th>3</th>\n",
              "      <td>4527.000</td>\n",
              "      <td>119.827</td>\n",
              "      <td>28.234</td>\n",
              "      <td>46.591</td>\n",
              "      <td>97.799</td>\n",
              "      <td>119.990</td>\n",
              "      <td>137.395</td>\n",
              "      <td>198.670</td>\n",
              "    </tr>\n",
              "    <tr>\n",
              "      <th>4</th>\n",
              "      <td>2119.000</td>\n",
              "      <td>121.111</td>\n",
              "      <td>27.941</td>\n",
              "      <td>59.906</td>\n",
              "      <td>99.916</td>\n",
              "      <td>120.031</td>\n",
              "      <td>139.889</td>\n",
              "      <td>198.372</td>\n",
              "    </tr>\n",
              "  </tbody>\n",
              "</table>\n",
              "</div>"
            ],
            "text/plain": [
              "                           tempo                 ...                        \n",
              "                           count    mean    std  ...     50%     75%     max\n",
              "song_popularity_cluster                          ...                        \n",
              "0                       4098.000 120.437 28.775  ... 119.997 139.928 199.402\n",
              "1                       2620.000 120.127 27.638  ... 118.941 138.193 199.373\n",
              "2                       1449.000 122.454 27.702  ... 122.311 140.024 198.870\n",
              "3                       4527.000 119.827 28.234  ... 119.990 137.395 198.670\n",
              "4                       2119.000 121.111 27.941  ... 120.031 139.889 198.372\n",
              "\n",
              "[5 rows x 8 columns]"
            ]
          },
          "metadata": {
            "tags": []
          },
          "execution_count": 902
        }
      ]
    },
    {
      "cell_type": "markdown",
      "metadata": {
        "id": "FGWUPb5_94xA",
        "colab_type": "text"
      },
      "source": [
        "Não parece haver uma relação muito clara entre o ritmo e popularidade, o que é esperado, pois diferentes estilos musicais tem seu ritmo próprio. Os valores para as 5 categorias são distribuídos de forma muito parecida, é legal notar apenas essa faixa entre 45 e 200 BPM que as músicas estão, em sua maioria, contidas."
      ]
    },
    {
      "cell_type": "markdown",
      "metadata": {
        "id": "0m0xecxU-xgw",
        "colab_type": "text"
      },
      "source": [
        "**Valência:**"
      ]
    },
    {
      "cell_type": "code",
      "metadata": {
        "id": "is-Dazop-w90",
        "colab_type": "code",
        "colab": {
          "base_uri": "https://localhost:8080/",
          "height": 266
        },
        "outputId": "8efac39f-e917-4a05-94f5-e22fa4fc296d"
      },
      "source": [
        "df[['audio_valence','song_popularity_cluster']].groupby('song_popularity_cluster').describe()"
      ],
      "execution_count": 903,
      "outputs": [
        {
          "output_type": "execute_result",
          "data": {
            "text/html": [
              "<div>\n",
              "<style scoped>\n",
              "    .dataframe tbody tr th:only-of-type {\n",
              "        vertical-align: middle;\n",
              "    }\n",
              "\n",
              "    .dataframe tbody tr th {\n",
              "        vertical-align: top;\n",
              "    }\n",
              "\n",
              "    .dataframe thead tr th {\n",
              "        text-align: left;\n",
              "    }\n",
              "\n",
              "    .dataframe thead tr:last-of-type th {\n",
              "        text-align: right;\n",
              "    }\n",
              "</style>\n",
              "<table border=\"1\" class=\"dataframe\">\n",
              "  <thead>\n",
              "    <tr>\n",
              "      <th></th>\n",
              "      <th colspan=\"8\" halign=\"left\">audio_valence</th>\n",
              "    </tr>\n",
              "    <tr>\n",
              "      <th></th>\n",
              "      <th>count</th>\n",
              "      <th>mean</th>\n",
              "      <th>std</th>\n",
              "      <th>min</th>\n",
              "      <th>25%</th>\n",
              "      <th>50%</th>\n",
              "      <th>75%</th>\n",
              "      <th>max</th>\n",
              "    </tr>\n",
              "    <tr>\n",
              "      <th>song_popularity_cluster</th>\n",
              "      <th></th>\n",
              "      <th></th>\n",
              "      <th></th>\n",
              "      <th></th>\n",
              "      <th></th>\n",
              "      <th></th>\n",
              "      <th></th>\n",
              "      <th></th>\n",
              "    </tr>\n",
              "  </thead>\n",
              "  <tbody>\n",
              "    <tr>\n",
              "      <th>0</th>\n",
              "      <td>4098.000</td>\n",
              "      <td>0.527</td>\n",
              "      <td>0.257</td>\n",
              "      <td>0.023</td>\n",
              "      <td>0.325</td>\n",
              "      <td>0.532</td>\n",
              "      <td>0.740</td>\n",
              "      <td>0.982</td>\n",
              "    </tr>\n",
              "    <tr>\n",
              "      <th>1</th>\n",
              "      <td>2620.000</td>\n",
              "      <td>0.524</td>\n",
              "      <td>0.233</td>\n",
              "      <td>0.035</td>\n",
              "      <td>0.341</td>\n",
              "      <td>0.522</td>\n",
              "      <td>0.708</td>\n",
              "      <td>0.980</td>\n",
              "    </tr>\n",
              "    <tr>\n",
              "      <th>2</th>\n",
              "      <td>1449.000</td>\n",
              "      <td>0.534</td>\n",
              "      <td>0.244</td>\n",
              "      <td>0.037</td>\n",
              "      <td>0.337</td>\n",
              "      <td>0.532</td>\n",
              "      <td>0.736</td>\n",
              "      <td>0.978</td>\n",
              "    </tr>\n",
              "    <tr>\n",
              "      <th>3</th>\n",
              "      <td>4527.000</td>\n",
              "      <td>0.509</td>\n",
              "      <td>0.246</td>\n",
              "      <td>0.028</td>\n",
              "      <td>0.316</td>\n",
              "      <td>0.505</td>\n",
              "      <td>0.699</td>\n",
              "      <td>0.984</td>\n",
              "    </tr>\n",
              "    <tr>\n",
              "      <th>4</th>\n",
              "      <td>2119.000</td>\n",
              "      <td>0.561</td>\n",
              "      <td>0.249</td>\n",
              "      <td>0.033</td>\n",
              "      <td>0.369</td>\n",
              "      <td>0.572</td>\n",
              "      <td>0.769</td>\n",
              "      <td>0.981</td>\n",
              "    </tr>\n",
              "  </tbody>\n",
              "</table>\n",
              "</div>"
            ],
            "text/plain": [
              "                        audio_valence                                          \n",
              "                                count  mean   std   min   25%   50%   75%   max\n",
              "song_popularity_cluster                                                        \n",
              "0                            4098.000 0.527 0.257 0.023 0.325 0.532 0.740 0.982\n",
              "1                            2620.000 0.524 0.233 0.035 0.341 0.522 0.708 0.980\n",
              "2                            1449.000 0.534 0.244 0.037 0.337 0.532 0.736 0.978\n",
              "3                            4527.000 0.509 0.246 0.028 0.316 0.505 0.699 0.984\n",
              "4                            2119.000 0.561 0.249 0.033 0.369 0.572 0.769 0.981"
            ]
          },
          "metadata": {
            "tags": []
          },
          "execution_count": 903
        }
      ]
    },
    {
      "cell_type": "markdown",
      "metadata": {
        "id": "cYXpnkk7AYlh",
        "colab_type": "text"
      },
      "source": [
        "Valência de áudio não parece ser algo muito discrepante para podermos fazer uma conclusão."
      ]
    },
    {
      "cell_type": "markdown",
      "metadata": {
        "id": "1hVTMd1cCo20",
        "colab_type": "text"
      },
      "source": [
        "**Nota musical:**"
      ]
    },
    {
      "cell_type": "code",
      "metadata": {
        "id": "P9CmW4PxAzH4",
        "colab_type": "code",
        "colab": {
          "base_uri": "https://localhost:8080/",
          "height": 513
        },
        "outputId": "21b4d768-7c7c-4499-bd3f-4b0f814949c6"
      },
      "source": [
        "plt.figure(figsize=(16,8))\n",
        "sns.countplot(x='key', data=df, hue='song_popularity_cluster')"
      ],
      "execution_count": 908,
      "outputs": [
        {
          "output_type": "execute_result",
          "data": {
            "text/plain": [
              "<matplotlib.axes._subplots.AxesSubplot at 0x7f3f17e62630>"
            ]
          },
          "metadata": {
            "tags": []
          },
          "execution_count": 908
        },
        {
          "output_type": "display_data",
          "data": {
            "image/png": "[encoded data removed]",
            "text/plain": [
              "<Figure size 1152x576 with 1 Axes>"
            ]
          },
          "metadata": {
            "tags": []
          }
        }
      ]
    },
    {
      "cell_type": "markdown",
      "metadata": {
        "id": "lZ9F28L_CFCo",
        "colab_type": "text"
      },
      "source": [
        "Parece que a nota musical predominante não é um fator que afete a popularidade diretamente, vemos que o desenho das barras basicamente se repete ao longo das diferentes notas."
      ]
    },
    {
      "cell_type": "markdown",
      "metadata": {
        "id": "-ishTM59C8Nn",
        "colab_type": "text"
      },
      "source": [
        "**Modo de áudio:**"
      ]
    },
    {
      "cell_type": "code",
      "metadata": {
        "id": "z-i6tR11Cv_Z",
        "colab_type": "code",
        "colab": {
          "base_uri": "https://localhost:8080/",
          "height": 510
        },
        "outputId": "216c75c4-2010-4754-ee23-00e6c74f9573"
      },
      "source": [
        "plt.figure(figsize=(16,8))\n",
        "sns.countplot(x='audio_mode', data=df, hue='song_popularity_cluster')"
      ],
      "execution_count": 909,
      "outputs": [
        {
          "output_type": "execute_result",
          "data": {
            "text/plain": [
              "<matplotlib.axes._subplots.AxesSubplot at 0x7f3f18e73d68>"
            ]
          },
          "metadata": {
            "tags": []
          },
          "execution_count": 909
        },
        {
          "output_type": "display_data",
          "data": {
            "image/png": "[encoded data removed]",
            "text/plain": [
              "<Figure size 1152x576 with 1 Axes>"
            ]
          },
          "metadata": {
            "tags": []
          }
        }
      ]
    },
    {
      "cell_type": "markdown",
      "metadata": {
        "id": "HuNBWiK0C_ex",
        "colab_type": "text"
      },
      "source": [
        "Novamente parece que não há uma relação direta, entretanto é possível perceber que há mais músicas que preferem o modo Maior."
      ]
    },
    {
      "cell_type": "markdown",
      "metadata": {
        "id": "GSfjOiTkDaIU",
        "colab_type": "text"
      },
      "source": [
        "# Conclusão"
      ]
    },
    {
      "cell_type": "markdown",
      "metadata": {
        "id": "ZFPCT0tqDc3p",
        "colab_type": "text"
      },
      "source": [
        "Com base com os dados que temos não é possível perceber uma relação muito bem definida sobre as nossas variáveis, parece que estes detalhes técnicos não importam muito para definir se uma música vai ser ou não popular."
      ]
    },
    {
      "cell_type": "code",
      "metadata": {
        "id": "ovrl8vjODvNU",
        "colab_type": "code",
        "colab": {
          "base_uri": "https://localhost:8080/",
          "height": 1000
        },
        "outputId": "ee1f6d3f-2547-47a9-c0e7-5e14a7a8ecb0"
      },
      "source": [
        "df[df['song_popularity'] >= 95]"
      ],
      "execution_count": 911,
      "outputs": [
        {
          "output_type": "execute_result",
          "data": {
            "text/html": [
              "<div>\n",
              "<style scoped>\n",
              "    .dataframe tbody tr th:only-of-type {\n",
              "        vertical-align: middle;\n",
              "    }\n",
              "\n",
              "    .dataframe tbody tr th {\n",
              "        vertical-align: top;\n",
              "    }\n",
              "\n",
              "    .dataframe thead th {\n",
              "        text-align: right;\n",
              "    }\n",
              "</style>\n",
              "<table border=\"1\" class=\"dataframe\">\n",
              "  <thead>\n",
              "    <tr style=\"text-align: right;\">\n",
              "      <th></th>\n",
              "      <th>song_popularity</th>\n",
              "      <th>song_duration_ms</th>\n",
              "      <th>acousticness</th>\n",
              "      <th>danceability</th>\n",
              "      <th>energy</th>\n",
              "      <th>key</th>\n",
              "      <th>liveness</th>\n",
              "      <th>loudness</th>\n",
              "      <th>audio_mode</th>\n",
              "      <th>speechiness</th>\n",
              "      <th>tempo</th>\n",
              "      <th>audio_valence</th>\n",
              "      <th>song_popularity_cluster</th>\n",
              "    </tr>\n",
              "    <tr>\n",
              "      <th>song_name</th>\n",
              "      <th></th>\n",
              "      <th></th>\n",
              "      <th></th>\n",
              "      <th></th>\n",
              "      <th></th>\n",
              "      <th></th>\n",
              "      <th></th>\n",
              "      <th></th>\n",
              "      <th></th>\n",
              "      <th></th>\n",
              "      <th></th>\n",
              "      <th></th>\n",
              "      <th></th>\n",
              "    </tr>\n",
              "  </thead>\n",
              "  <tbody>\n",
              "    <tr>\n",
              "      <th>BEBE</th>\n",
              "      <td>95</td>\n",
              "      <td>217822.000</td>\n",
              "      <td>0.172</td>\n",
              "      <td>0.635</td>\n",
              "      <td>0.902</td>\n",
              "      <td>0.000</td>\n",
              "      <td>0.125</td>\n",
              "      <td>-3.559</td>\n",
              "      <td>1</td>\n",
              "      <td>0.109</td>\n",
              "      <td>102.063</td>\n",
              "      <td>0.286</td>\n",
              "      <td>1</td>\n",
              "    </tr>\n",
              "    <tr>\n",
              "      <th>Be Alright</th>\n",
              "      <td>96</td>\n",
              "      <td>196373.000</td>\n",
              "      <td>0.697</td>\n",
              "      <td>0.553</td>\n",
              "      <td>0.586</td>\n",
              "      <td>11.000</td>\n",
              "      <td>0.081</td>\n",
              "      <td>-6.319</td>\n",
              "      <td>1</td>\n",
              "      <td>0.036</td>\n",
              "      <td>126.684</td>\n",
              "      <td>0.443</td>\n",
              "      <td>1</td>\n",
              "    </tr>\n",
              "    <tr>\n",
              "      <th>Better</th>\n",
              "      <td>95</td>\n",
              "      <td>229412.000</td>\n",
              "      <td>0.098</td>\n",
              "      <td>0.442</td>\n",
              "      <td>0.585</td>\n",
              "      <td>0.000</td>\n",
              "      <td>0.140</td>\n",
              "      <td>-10.332</td>\n",
              "      <td>0</td>\n",
              "      <td>0.096</td>\n",
              "      <td>97.565</td>\n",
              "      <td>0.116</td>\n",
              "      <td>1</td>\n",
              "    </tr>\n",
              "    <tr>\n",
              "      <th>Better Now</th>\n",
              "      <td>95</td>\n",
              "      <td>231266.000</td>\n",
              "      <td>0.354</td>\n",
              "      <td>0.680</td>\n",
              "      <td>0.563</td>\n",
              "      <td>10.000</td>\n",
              "      <td>0.136</td>\n",
              "      <td>-5.843</td>\n",
              "      <td>1</td>\n",
              "      <td>0.045</td>\n",
              "      <td>145.028</td>\n",
              "      <td>0.374</td>\n",
              "      <td>1</td>\n",
              "    </tr>\n",
              "    <tr>\n",
              "      <th>Eastside (with Halsey &amp; Khalid)</th>\n",
              "      <td>98</td>\n",
              "      <td>173799.000</td>\n",
              "      <td>0.555</td>\n",
              "      <td>0.560</td>\n",
              "      <td>0.680</td>\n",
              "      <td>6.000</td>\n",
              "      <td>0.116</td>\n",
              "      <td>-7.648</td>\n",
              "      <td>0</td>\n",
              "      <td>0.321</td>\n",
              "      <td>89.391</td>\n",
              "      <td>0.319</td>\n",
              "      <td>1</td>\n",
              "    </tr>\n",
              "    <tr>\n",
              "      <th>FEFE (feat. Nicki Minaj &amp; Murda Beatz)</th>\n",
              "      <td>96</td>\n",
              "      <td>179404.000</td>\n",
              "      <td>0.088</td>\n",
              "      <td>0.931</td>\n",
              "      <td>0.387</td>\n",
              "      <td>1.000</td>\n",
              "      <td>0.136</td>\n",
              "      <td>-9.127</td>\n",
              "      <td>1</td>\n",
              "      <td>0.031</td>\n",
              "      <td>125.978</td>\n",
              "      <td>0.376</td>\n",
              "      <td>1</td>\n",
              "    </tr>\n",
              "    <tr>\n",
              "      <th>Falling Down</th>\n",
              "      <td>97</td>\n",
              "      <td>196400.000</td>\n",
              "      <td>0.018</td>\n",
              "      <td>0.669</td>\n",
              "      <td>0.574</td>\n",
              "      <td>4.000</td>\n",
              "      <td>0.146</td>\n",
              "      <td>-6.442</td>\n",
              "      <td>0</td>\n",
              "      <td>0.029</td>\n",
              "      <td>120.013</td>\n",
              "      <td>0.273</td>\n",
              "      <td>1</td>\n",
              "    </tr>\n",
              "    <tr>\n",
              "      <th>Happier</th>\n",
              "      <td>100</td>\n",
              "      <td>214289.000</td>\n",
              "      <td>0.191</td>\n",
              "      <td>0.687</td>\n",
              "      <td>0.792</td>\n",
              "      <td>5.000</td>\n",
              "      <td>0.167</td>\n",
              "      <td>-2.749</td>\n",
              "      <td>1</td>\n",
              "      <td>0.045</td>\n",
              "      <td>100.015</td>\n",
              "      <td>0.671</td>\n",
              "      <td>1</td>\n",
              "    </tr>\n",
              "    <tr>\n",
              "      <th>I Like It</th>\n",
              "      <td>95</td>\n",
              "      <td>253390.000</td>\n",
              "      <td>0.099</td>\n",
              "      <td>0.816</td>\n",
              "      <td>0.726</td>\n",
              "      <td>5.000</td>\n",
              "      <td>0.372</td>\n",
              "      <td>-3.998</td>\n",
              "      <td>0</td>\n",
              "      <td>0.129</td>\n",
              "      <td>136.048</td>\n",
              "      <td>0.650</td>\n",
              "      <td>1</td>\n",
              "    </tr>\n",
              "    <tr>\n",
              "      <th>I Love It (&amp; Lil Pump)</th>\n",
              "      <td>99</td>\n",
              "      <td>127946.000</td>\n",
              "      <td>0.011</td>\n",
              "      <td>0.901</td>\n",
              "      <td>0.522</td>\n",
              "      <td>2.000</td>\n",
              "      <td>0.259</td>\n",
              "      <td>-8.304</td>\n",
              "      <td>1</td>\n",
              "      <td>0.330</td>\n",
              "      <td>104.053</td>\n",
              "      <td>0.329</td>\n",
              "      <td>1</td>\n",
              "    </tr>\n",
              "    <tr>\n",
              "      <th>In My Feelings</th>\n",
              "      <td>98</td>\n",
              "      <td>217925.000</td>\n",
              "      <td>0.059</td>\n",
              "      <td>0.835</td>\n",
              "      <td>0.626</td>\n",
              "      <td>1.000</td>\n",
              "      <td>0.396</td>\n",
              "      <td>-5.833</td>\n",
              "      <td>1</td>\n",
              "      <td>0.125</td>\n",
              "      <td>91.030</td>\n",
              "      <td>0.350</td>\n",
              "      <td>1</td>\n",
              "    </tr>\n",
              "    <tr>\n",
              "      <th>In My Mind</th>\n",
              "      <td>97</td>\n",
              "      <td>184560.000</td>\n",
              "      <td>0.176</td>\n",
              "      <td>0.694</td>\n",
              "      <td>0.770</td>\n",
              "      <td>6.000</td>\n",
              "      <td>0.118</td>\n",
              "      <td>-5.335</td>\n",
              "      <td>1</td>\n",
              "      <td>0.149</td>\n",
              "      <td>125.905</td>\n",
              "      <td>0.163</td>\n",
              "      <td>1</td>\n",
              "    </tr>\n",
              "    <tr>\n",
              "      <th>Lucid Dreams</th>\n",
              "      <td>97</td>\n",
              "      <td>239835.000</td>\n",
              "      <td>0.349</td>\n",
              "      <td>0.511</td>\n",
              "      <td>0.566</td>\n",
              "      <td>6.000</td>\n",
              "      <td>0.340</td>\n",
              "      <td>-7.230</td>\n",
              "      <td>0</td>\n",
              "      <td>0.200</td>\n",
              "      <td>83.903</td>\n",
              "      <td>0.218</td>\n",
              "      <td>1</td>\n",
              "    </tr>\n",
              "    <tr>\n",
              "      <th>Lucky You (feat. Joyner Lucas)</th>\n",
              "      <td>96</td>\n",
              "      <td>244679.000</td>\n",
              "      <td>0.063</td>\n",
              "      <td>0.876</td>\n",
              "      <td>0.786</td>\n",
              "      <td>10.000</td>\n",
              "      <td>0.127</td>\n",
              "      <td>-4.884</td>\n",
              "      <td>0</td>\n",
              "      <td>0.306</td>\n",
              "      <td>153.068</td>\n",
              "      <td>0.575</td>\n",
              "      <td>1</td>\n",
              "    </tr>\n",
              "    <tr>\n",
              "      <th>Moonlight</th>\n",
              "      <td>96</td>\n",
              "      <td>135090.000</td>\n",
              "      <td>0.556</td>\n",
              "      <td>0.921</td>\n",
              "      <td>0.537</td>\n",
              "      <td>9.000</td>\n",
              "      <td>0.102</td>\n",
              "      <td>-5.723</td>\n",
              "      <td>0</td>\n",
              "      <td>0.080</td>\n",
              "      <td>128.009</td>\n",
              "      <td>0.711</td>\n",
              "      <td>1</td>\n",
              "    </tr>\n",
              "    <tr>\n",
              "      <th>Natural</th>\n",
              "      <td>95</td>\n",
              "      <td>189466.000</td>\n",
              "      <td>0.216</td>\n",
              "      <td>0.448</td>\n",
              "      <td>0.612</td>\n",
              "      <td>2.000</td>\n",
              "      <td>0.080</td>\n",
              "      <td>-6.106</td>\n",
              "      <td>1</td>\n",
              "      <td>0.071</td>\n",
              "      <td>97.773</td>\n",
              "      <td>0.213</td>\n",
              "      <td>1</td>\n",
              "    </tr>\n",
              "    <tr>\n",
              "      <th>Promises (with Sam Smith)</th>\n",
              "      <td>98</td>\n",
              "      <td>213309.000</td>\n",
              "      <td>0.012</td>\n",
              "      <td>0.781</td>\n",
              "      <td>0.768</td>\n",
              "      <td>11.000</td>\n",
              "      <td>0.325</td>\n",
              "      <td>-5.991</td>\n",
              "      <td>1</td>\n",
              "      <td>0.039</td>\n",
              "      <td>123.070</td>\n",
              "      <td>0.486</td>\n",
              "      <td>1</td>\n",
              "    </tr>\n",
              "    <tr>\n",
              "      <th>SAD!</th>\n",
              "      <td>96</td>\n",
              "      <td>166605.000</td>\n",
              "      <td>0.258</td>\n",
              "      <td>0.740</td>\n",
              "      <td>0.613</td>\n",
              "      <td>8.000</td>\n",
              "      <td>0.123</td>\n",
              "      <td>-4.880</td>\n",
              "      <td>1</td>\n",
              "      <td>0.145</td>\n",
              "      <td>75.023</td>\n",
              "      <td>0.473</td>\n",
              "      <td>1</td>\n",
              "    </tr>\n",
              "    <tr>\n",
              "      <th>SICKO MODE</th>\n",
              "      <td>97</td>\n",
              "      <td>312820.000</td>\n",
              "      <td>0.005</td>\n",
              "      <td>0.834</td>\n",
              "      <td>0.730</td>\n",
              "      <td>8.000</td>\n",
              "      <td>0.124</td>\n",
              "      <td>-3.714</td>\n",
              "      <td>1</td>\n",
              "      <td>0.222</td>\n",
              "      <td>155.008</td>\n",
              "      <td>0.446</td>\n",
              "      <td>1</td>\n",
              "    </tr>\n",
              "    <tr>\n",
              "      <th>Taki Taki (with Selena Gomez, Ozuna &amp; Cardi B)</th>\n",
              "      <td>98</td>\n",
              "      <td>212500.000</td>\n",
              "      <td>0.153</td>\n",
              "      <td>0.841</td>\n",
              "      <td>0.798</td>\n",
              "      <td>1.000</td>\n",
              "      <td>0.062</td>\n",
              "      <td>-4.206</td>\n",
              "      <td>0</td>\n",
              "      <td>0.229</td>\n",
              "      <td>95.948</td>\n",
              "      <td>0.591</td>\n",
              "      <td>1</td>\n",
              "    </tr>\n",
              "    <tr>\n",
              "      <th>Taste (feat. Offset)</th>\n",
              "      <td>95</td>\n",
              "      <td>232959.000</td>\n",
              "      <td>0.024</td>\n",
              "      <td>0.884</td>\n",
              "      <td>0.559</td>\n",
              "      <td>0.000</td>\n",
              "      <td>0.101</td>\n",
              "      <td>-7.442</td>\n",
              "      <td>1</td>\n",
              "      <td>0.120</td>\n",
              "      <td>97.994</td>\n",
              "      <td>0.342</td>\n",
              "      <td>1</td>\n",
              "    </tr>\n",
              "  </tbody>\n",
              "</table>\n",
              "</div>"
            ],
            "text/plain": [
              "                                                song_popularity  ...  song_popularity_cluster\n",
              "song_name                                                        ...                         \n",
              "BEBE                                                         95  ...                        1\n",
              "Be Alright                                                   96  ...                        1\n",
              "Better                                                       95  ...                        1\n",
              "Better Now                                                   95  ...                        1\n",
              "Eastside (with Halsey & Khalid)                              98  ...                        1\n",
              "FEFE (feat. Nicki Minaj & Murda Beatz)                       96  ...                        1\n",
              "Falling Down                                                 97  ...                        1\n",
              "Happier                                                     100  ...                        1\n",
              "I Like It                                                    95  ...                        1\n",
              "I Love It (& Lil Pump)                                       99  ...                        1\n",
              "In My Feelings                                               98  ...                        1\n",
              "In My Mind                                                   97  ...                        1\n",
              "Lucid Dreams                                                 97  ...                        1\n",
              "Lucky You (feat. Joyner Lucas)                               96  ...                        1\n",
              "Moonlight                                                    96  ...                        1\n",
              "Natural                                                      95  ...                        1\n",
              "Promises (with Sam Smith)                                    98  ...                        1\n",
              "SAD!                                                         96  ...                        1\n",
              "SICKO MODE                                                   97  ...                        1\n",
              "Taki Taki (with Selena Gomez, Ozuna & Cardi B)               98  ...                        1\n",
              "Taste (feat. Offset)                                         95  ...                        1\n",
              "\n",
              "[21 rows x 13 columns]"
            ]
          },
          "metadata": {
            "tags": []
          },
          "execution_count": 911
        }
      ]
    },
    {
      "cell_type": "markdown",
      "metadata": {
        "id": "ymVBGrESELrv",
        "colab_type": "text"
      },
      "source": [
        "Essa parte do dataset mostra músicas com uma popularidade igual ou maior que 95, o que seriam excelentes neste quesito. Dando uma olhada podemos pensar em fatores que talvez sejam mais impactantes nessa análise, por exemplo: Estilo da música, cantor, pública alvo, idade média das pessoas que ouvem tal música, entre outros, mas aqui estamos entrando um pouco em especulação minha."
      ]
    },
    {
      "cell_type": "markdown",
      "metadata": {
        "id": "ph02WlSCE1F6",
        "colab_type": "text"
      },
      "source": [
        "Talvez não seja em si os detalhes técnicos, mas um misto disso com também fatores muito mais subjetivos, como gosto musical da maioria ou influências artísticas daquela da população."
      ]
    },
    {
      "cell_type": "markdown",
      "metadata": {
        "id": "f0UIxWrEFmmL",
        "colab_type": "text"
      },
      "source": [
        "# Relações entre variáveis"
      ]
    },
    {
      "cell_type": "markdown",
      "metadata": {
        "id": "Q_tP27CaFpIz",
        "colab_type": "text"
      },
      "source": [
        "Mesmo que uma possível conclusão já tenha sido feita, não custa nada ver relações entre as nossas variáveis e ver se descobrimos alguma coisa que pode ser interessante."
      ]
    },
    {
      "cell_type": "code",
      "metadata": {
        "id": "SQuXTxR6FmJl",
        "colab_type": "code",
        "colab": {
          "base_uri": "https://localhost:8080/",
          "height": 393
        },
        "outputId": "41fcbd73-27f4-47dd-df28-fd26ffe32ffd"
      },
      "source": [
        "corr = df.corr()\n",
        "sns.heatmap(corr, square=True, cmap=\"coolwarm\", center=0)\n",
        "plt.show()"
      ],
      "execution_count": 922,
      "outputs": [
        {
          "output_type": "display_data",
          "data": {
            "image/png": "[encoded data removed]",
            "text/plain": [
              "<Figure size 432x288 with 2 Axes>"
            ]
          },
          "metadata": {
            "tags": []
          }
        }
      ]
    },
    {
      "cell_type": "markdown",
      "metadata": {
        "id": "-ZQTIVVhJfG2",
        "colab_type": "text"
      },
      "source": [
        "Nossas variáveis não apresentam uma relação tão forte, porém podemos destacar a relação entre algumas delas:\n",
        "\n",
        "*   Energia e sonoridade\n",
        "*   Acústica e sonoridade\n",
        "*   Acústica e energia\n",
        "\n"
      ]
    }
  ]
}